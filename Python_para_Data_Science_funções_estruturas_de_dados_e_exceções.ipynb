{
  "nbformat": 4,
  "nbformat_minor": 0,
  "metadata": {
    "colab": {
      "provenance": []
    },
    "kernelspec": {
      "name": "python3",
      "display_name": "Python 3"
    },
    "language_info": {
      "name": "python"
    }
  },
  "cells": [
    {
      "cell_type": "markdown",
      "source": [
        "#Bibliotecas do Python\n",
        "As bibliotecas do Python são, basicamente, um conjunto de módulos e funções úteis para a pessoa usuária. Esses módulos e funções desempenham tarefas segundo as nossas necessidades, sem que seja necessário trazer todos os pacotes e dados para o projeto."
      ],
      "metadata": {
        "id": "pmHDWJZmG9XQ"
      }
    },
    {
      "cell_type": "markdown",
      "source": [
        "## PIP\n",
        "Gereciador de bibliotecas do python"
      ],
      "metadata": {
        "id": "jGs6EHbaHKVy"
      }
    },
    {
      "cell_type": "code",
      "execution_count": null,
      "metadata": {
        "colab": {
          "base_uri": "https://localhost:8080/"
        },
        "id": "iB2m2m0iG2wu",
        "outputId": "ab72b304-a5fe-4af1-dbae-2a044947762c"
      },
      "outputs": [
        {
          "output_type": "stream",
          "name": "stdout",
          "text": [
            "Requirement already satisfied: matplotlib in /usr/local/lib/python3.10/dist-packages (3.7.1)\n",
            "Requirement already satisfied: contourpy>=1.0.1 in /usr/local/lib/python3.10/dist-packages (from matplotlib) (1.1.0)\n",
            "Requirement already satisfied: cycler>=0.10 in /usr/local/lib/python3.10/dist-packages (from matplotlib) (0.11.0)\n",
            "Requirement already satisfied: fonttools>=4.22.0 in /usr/local/lib/python3.10/dist-packages (from matplotlib) (4.42.1)\n",
            "Requirement already satisfied: kiwisolver>=1.0.1 in /usr/local/lib/python3.10/dist-packages (from matplotlib) (1.4.4)\n",
            "Requirement already satisfied: numpy>=1.20 in /usr/local/lib/python3.10/dist-packages (from matplotlib) (1.23.5)\n",
            "Requirement already satisfied: packaging>=20.0 in /usr/local/lib/python3.10/dist-packages (from matplotlib) (23.1)\n",
            "Requirement already satisfied: pillow>=6.2.0 in /usr/local/lib/python3.10/dist-packages (from matplotlib) (9.4.0)\n",
            "Requirement already satisfied: pyparsing>=2.3.1 in /usr/local/lib/python3.10/dist-packages (from matplotlib) (3.1.1)\n",
            "Requirement already satisfied: python-dateutil>=2.7 in /usr/local/lib/python3.10/dist-packages (from matplotlib) (2.8.2)\n",
            "Requirement already satisfied: six>=1.5 in /usr/local/lib/python3.10/dist-packages (from python-dateutil>=2.7->matplotlib) (1.16.0)\n"
          ]
        }
      ],
      "source": [
        "#Intalando uma biblioteca pelo pip\n",
        "!pip install matplotlib"
      ]
    },
    {
      "cell_type": "code",
      "source": [
        "#Instalando uma versão especifica, para evitar que a biblioteca mude no futuro e os argumentos de alguma função fiquem diferente causando erro no seu programa\n",
        "!pip install matplotlib==3.6.2\n",
        "##Vai pedir para reiniciar a versão para que ele comece a funcionar normalmente"
      ],
      "metadata": {
        "colab": {
          "base_uri": "https://localhost:8080/",
          "height": 443
        },
        "id": "KBHy5q1UHpnD",
        "outputId": "f9ceb261-7f82-442e-c614-a5dee3249953"
      },
      "execution_count": null,
      "outputs": [
        {
          "output_type": "stream",
          "name": "stdout",
          "text": [
            "Collecting matplotlib==3.6.2\n",
            "  Downloading matplotlib-3.6.2-cp310-cp310-manylinux_2_17_x86_64.manylinux2014_x86_64.whl (11.8 MB)\n",
            "\u001b[2K     \u001b[90m━━━━━━━━━━━━━━━━━━━━━━━━━━━━━━━━━━━━━━━━\u001b[0m \u001b[32m11.8/11.8 MB\u001b[0m \u001b[31m32.0 MB/s\u001b[0m eta \u001b[36m0:00:00\u001b[0m\n",
            "\u001b[?25hRequirement already satisfied: contourpy>=1.0.1 in /usr/local/lib/python3.10/dist-packages (from matplotlib==3.6.2) (1.1.0)\n",
            "Requirement already satisfied: cycler>=0.10 in /usr/local/lib/python3.10/dist-packages (from matplotlib==3.6.2) (0.11.0)\n",
            "Requirement already satisfied: fonttools>=4.22.0 in /usr/local/lib/python3.10/dist-packages (from matplotlib==3.6.2) (4.42.1)\n",
            "Requirement already satisfied: kiwisolver>=1.0.1 in /usr/local/lib/python3.10/dist-packages (from matplotlib==3.6.2) (1.4.4)\n",
            "Requirement already satisfied: numpy>=1.19 in /usr/local/lib/python3.10/dist-packages (from matplotlib==3.6.2) (1.23.5)\n",
            "Requirement already satisfied: packaging>=20.0 in /usr/local/lib/python3.10/dist-packages (from matplotlib==3.6.2) (23.1)\n",
            "Requirement already satisfied: pillow>=6.2.0 in /usr/local/lib/python3.10/dist-packages (from matplotlib==3.6.2) (9.4.0)\n",
            "Requirement already satisfied: pyparsing>=2.2.1 in /usr/local/lib/python3.10/dist-packages (from matplotlib==3.6.2) (3.1.1)\n",
            "Requirement already satisfied: python-dateutil>=2.7 in /usr/local/lib/python3.10/dist-packages (from matplotlib==3.6.2) (2.8.2)\n",
            "Requirement already satisfied: six>=1.5 in /usr/local/lib/python3.10/dist-packages (from python-dateutil>=2.7->matplotlib==3.6.2) (1.16.0)\n",
            "Installing collected packages: matplotlib\n",
            "  Attempting uninstall: matplotlib\n",
            "    Found existing installation: matplotlib 3.7.1\n",
            "    Uninstalling matplotlib-3.7.1:\n",
            "      Successfully uninstalled matplotlib-3.7.1\n",
            "Successfully installed matplotlib-3.6.2\n"
          ]
        },
        {
          "output_type": "display_data",
          "data": {
            "application/vnd.colab-display-data+json": {
              "pip_warning": {
                "packages": [
                  "matplotlib",
                  "mpl_toolkits"
                ]
              }
            }
          },
          "metadata": {}
        }
      ]
    },
    {
      "cell_type": "markdown",
      "source": [
        "##Importando uma biblioteca\n",
        "Para que possamos começar a usar a biblioteca no programa"
      ],
      "metadata": {
        "id": "AToNqIkrIiOH"
      }
    },
    {
      "cell_type": "code",
      "source": [
        "#importndo a biblioteca\n",
        "import matplotlib"
      ],
      "metadata": {
        "id": "MW6D-tS8I0Vz"
      },
      "execution_count": null,
      "outputs": []
    },
    {
      "cell_type": "code",
      "source": [
        "matplotlib.__version__"
      ],
      "metadata": {
        "colab": {
          "base_uri": "https://localhost:8080/",
          "height": 35
        },
        "id": "Uwb3K01GJGfR",
        "outputId": "9cafb446-bb89-4edb-e906-d88a4542123b"
      },
      "execution_count": null,
      "outputs": [
        {
          "output_type": "execute_result",
          "data": {
            "text/plain": [
              "'3.7.1'"
            ],
            "application/vnd.google.colaboratory.intrinsic+json": {
              "type": "string"
            }
          },
          "metadata": {},
          "execution_count": 4
        }
      ]
    },
    {
      "cell_type": "code",
      "source": [
        "#importndo a biblioteca com um alias \"apelido\"\n",
        "import matplotlib.pyplot as plt\n"
      ],
      "metadata": {
        "id": "iwIpQpkMI0Qb"
      },
      "execution_count": null,
      "outputs": []
    },
    {
      "cell_type": "markdown",
      "source": [
        "### Importando com *"
      ],
      "metadata": {
        "id": "H4BpNbcnc5Pi"
      }
    },
    {
      "cell_type": "code",
      "source": [
        "import math\n",
        "\n",
        "n = int(input(\"Digite um número positivo para calcular sua raiz quadrada:\"))\n",
        "print(f\"\\nA raiz quadrada de {n} é igual a {math.sqrt(n)}\")"
      ],
      "metadata": {
        "colab": {
          "base_uri": "https://localhost:8080/"
        },
        "id": "94BV62v_cs9S",
        "outputId": "bc01c2ed-11ab-4f5f-d2d1-375b2d52b7f1"
      },
      "execution_count": null,
      "outputs": [
        {
          "output_type": "stream",
          "name": "stdout",
          "text": [
            "Digite um número positivo para calcular sua raiz quadrada:12\n",
            "\n",
            "A raiz quadrada de 12 é igual a 3.4641016151377544\n"
          ]
        }
      ]
    },
    {
      "cell_type": "code",
      "source": [
        "from math import *\n",
        "\n",
        "n = int(input(\"Digite um número positivo para calcular sua raiz quadrada:\"))\n",
        "print(f\"\\nA raiz quadrada de {n} é igual a {sqrt(n)}\")"
      ],
      "metadata": {
        "colab": {
          "base_uri": "https://localhost:8080/"
        },
        "id": "kzTr1Xc7csyW",
        "outputId": "41f5e033-b416-4540-ab09-aafbec336fca"
      },
      "execution_count": null,
      "outputs": [
        {
          "output_type": "stream",
          "name": "stdout",
          "text": [
            "Digite um número positivo para calcular sua raiz quadrada:12\n",
            "\n",
            "A raiz quadrada de 12 é igual a 3.4641016151377544\n"
          ]
        }
      ]
    },
    {
      "cell_type": "markdown",
      "source": [
        "No segundo código podemos suprimir o `math.`. Importar dessa forma pode gerar alguns problemas\n",
        "\n",
        "\n",
        "\n",
        "> Podemos ter choque de nomes entre as variáveis. Por exemplo, no caso de termos uma função chamada sqrt antes de importar a da biblioteca math.\n",
        "\n",
        "> Podemos reduzir a eficiência da execução, se o número de funções importadas é grande.\n",
        "\n",
        "> Não fica explícito de onde aquela variável, método ou classe veio.\n",
        "\n"
      ],
      "metadata": {
        "id": "Q1-_rS3Jc-GG"
      }
    },
    {
      "cell_type": "markdown",
      "source": [
        "###Importando só um método\n",
        "Quando fazemos isso não é necessário chamar a blibioteca no código.\n"
      ],
      "metadata": {
        "id": "cajP3Z3ieFKz"
      }
    },
    {
      "cell_type": "code",
      "source": [
        "from math import ceil\n",
        "\n",
        "receita = 1000\n",
        "unidade = 15\n",
        "\n",
        "print(f\" A empresa vendeu aproximadamente {ceil(receita/unidade)} unidades\")  #Não escrevemos math.ceil"
      ],
      "metadata": {
        "colab": {
          "base_uri": "https://localhost:8080/"
        },
        "id": "kQfNL6uIeRc4",
        "outputId": "a72e536b-9a0c-4324-b7ba-230b256e9381"
      },
      "execution_count": null,
      "outputs": [
        {
          "output_type": "stream",
          "name": "stdout",
          "text": [
            " A empresa vendeu aproximadamente 67 unidades\n"
          ]
        }
      ]
    },
    {
      "cell_type": "markdown",
      "source": [
        "##Todas as bibliotecas instaladas"
      ],
      "metadata": {
        "id": "lA79ujoJJyY-"
      }
    },
    {
      "cell_type": "code",
      "source": [
        "!pip list"
      ],
      "metadata": {
        "id": "_E4zaJNMJ2PB"
      },
      "execution_count": null,
      "outputs": []
    },
    {
      "cell_type": "markdown",
      "source": [
        "##Exemplos de Uso"
      ],
      "metadata": {
        "id": "k6gw9I6nTCeg"
      }
    },
    {
      "cell_type": "markdown",
      "source": [
        "###Gráfico de Barras"
      ],
      "metadata": {
        "id": "hBfGT2gFTGnc"
      }
    },
    {
      "cell_type": "code",
      "source": [
        "estudantes = ['João', 'Maria', 'José']\n",
        "notas = [8.5, 9, 6.5]"
      ],
      "metadata": {
        "id": "vEOlVIL8TLIy"
      },
      "execution_count": null,
      "outputs": []
    },
    {
      "cell_type": "code",
      "source": [
        "plt.bar(estudantes, notas, width = 0.9) ##width é a expessura da barra"
      ],
      "metadata": {
        "colab": {
          "base_uri": "https://localhost:8080/",
          "height": 447
        },
        "id": "iHSU83_aTakH",
        "outputId": "297d5538-b5e5-4e7a-beb6-99a56ba9f0b5"
      },
      "execution_count": null,
      "outputs": [
        {
          "output_type": "execute_result",
          "data": {
            "text/plain": [
              "<BarContainer object of 3 artists>"
            ]
          },
          "metadata": {},
          "execution_count": 11
        },
        {
          "output_type": "display_data",
          "data": {
            "text/plain": [
              "<Figure size 640x480 with 1 Axes>"
            ],
            "image/png": "[encoded data removed]"
          },
          "metadata": {}
        }
      ]
    },
    {
      "cell_type": "markdown",
      "source": [
        "###Random para selecionar um aluno"
      ],
      "metadata": {
        "id": "ixpxkM6PXFdA"
      }
    },
    {
      "cell_type": "code",
      "source": [
        "estudantes_2 = ['João', 'Maria', 'José', 'Ana']\n"
      ],
      "metadata": {
        "id": "Vm1mRNM_XFBk"
      },
      "execution_count": null,
      "outputs": []
    },
    {
      "cell_type": "code",
      "source": [
        "#importando a função especifica de uma biblioteca\n",
        "from random import choice"
      ],
      "metadata": {
        "id": "moGhC29rXcQT"
      },
      "execution_count": null,
      "outputs": []
    },
    {
      "cell_type": "markdown",
      "source": [
        "Podemos obter ajuda a respeito de uma função usando o comando `help(*)`."
      ],
      "metadata": {
        "id": "MkvNpIn8YBiw"
      }
    },
    {
      "cell_type": "code",
      "source": [
        "help(choice)"
      ],
      "metadata": {
        "colab": {
          "base_uri": "https://localhost:8080/"
        },
        "id": "aCxBltkdYI1U",
        "outputId": "6dac6987-44f7-49ff-8291-edb2b35d3dfa"
      },
      "execution_count": null,
      "outputs": [
        {
          "output_type": "stream",
          "name": "stdout",
          "text": [
            "Help on method choice in module random:\n",
            "\n",
            "choice(seq) method of random.Random instance\n",
            "    Choose a random element from a non-empty sequence.\n",
            "\n"
          ]
        }
      ]
    },
    {
      "cell_type": "code",
      "source": [
        "choice(estudantes_2)"
      ],
      "metadata": {
        "colab": {
          "base_uri": "https://localhost:8080/",
          "height": 35
        },
        "id": "X_hXCuyNYNTT",
        "outputId": "c83d421e-594f-4a46-d895-858f7dd0560c"
      },
      "execution_count": null,
      "outputs": [
        {
          "output_type": "execute_result",
          "data": {
            "text/plain": [
              "'José'"
            ],
            "application/vnd.google.colaboratory.intrinsic+json": {
              "type": "string"
            }
          },
          "metadata": {},
          "execution_count": 15
        }
      ]
    },
    {
      "cell_type": "markdown",
      "source": [
        "####Outros exemplos de random\n",
        "Este código resulta na importação de 2 ou mais métodos de uma biblioteca, não necessitando repetir a importação desta a cada método desejado.\n",
        "\n",
        "`from nome_biblioteca import met_1, met_2`"
      ],
      "metadata": {
        "id": "s4WzAhlwZRFV"
      }
    },
    {
      "cell_type": "code",
      "source": [
        "from random import randrange, sample\n",
        "\n",
        "lista = []\n",
        "\n",
        "for i in range(0, 20):\n",
        "  lista.append(randrange(100)) #pegou 20 numeros aleatorios entre 0 e 100\n",
        "\n",
        "sample(lista, 5) #dessa lista escolheu 5\n"
      ],
      "metadata": {
        "colab": {
          "base_uri": "https://localhost:8080/"
        },
        "id": "XqnbkZxaYrdl",
        "outputId": "4c5723c1-0ccf-40ab-a27a-e83ad869e26b"
      },
      "execution_count": null,
      "outputs": [
        {
          "output_type": "execute_result",
          "data": {
            "text/plain": [
              "[48, 67, 43, 6, 5]"
            ]
          },
          "metadata": {},
          "execution_count": 16
        }
      ]
    },
    {
      "cell_type": "markdown",
      "source": [
        "##Desafios 01"
      ],
      "metadata": {
        "id": "lKfl-hIxeqMQ"
      }
    },
    {
      "cell_type": "markdown",
      "source": [
        "###Problema 1\n",
        "Escreva um código para instalar a versão 3.7.1 da biblioteca matplotlib."
      ],
      "metadata": {
        "id": "dVuyy6DjeuwM"
      }
    },
    {
      "cell_type": "code",
      "source": [
        "!pip install matplotlib==3.7.1"
      ],
      "metadata": {
        "id": "_706ry-HgZ5y",
        "colab": {
          "base_uri": "https://localhost:8080/",
          "height": 217
        },
        "outputId": "5f3089cf-bc34-410e-823f-4df86785aa9c"
      },
      "execution_count": null,
      "outputs": [
        {
          "output_type": "stream",
          "name": "stdout",
          "text": [
            "Installing collected packages: matplotlib\n",
            "  Attempting uninstall: matplotlib\n",
            "    Found existing installation: matplotlib 3.6.2\n",
            "    Uninstalling matplotlib-3.6.2:\n",
            "      Successfully uninstalled matplotlib-3.6.2\n",
            "Successfully installed matplotlib-3.7.1\n"
          ]
        },
        {
          "output_type": "display_data",
          "data": {
            "application/vnd.colab-display-data+json": {
              "pip_warning": {
                "packages": [
                  "matplotlib",
                  "mpl_toolkits"
                ]
              }
            }
          },
          "metadata": {}
        }
      ]
    },
    {
      "cell_type": "markdown",
      "source": [
        "###Problema 2\n",
        "Escreva um código para importar a biblioteca numpy com o alias np.\n"
      ],
      "metadata": {
        "id": "ZoorkdAfey3t"
      }
    },
    {
      "cell_type": "code",
      "source": [
        "import numpy as np"
      ],
      "metadata": {
        "id": "BeW0qCJagakd"
      },
      "execution_count": null,
      "outputs": []
    },
    {
      "cell_type": "markdown",
      "source": [
        "###Problema 3\n",
        "Crie um programa que lê a seguinte lista de números e escolha um número desta aleatoriamente.\n",
        "\n"
      ],
      "metadata": {
        "id": "XsNxVT4pe2QF"
      }
    },
    {
      "cell_type": "code",
      "source": [
        "lista = [8, 12, 54, 23, 43, 1, 90, 87, 105, 77]\n",
        "\n",
        "choice(lista)"
      ],
      "metadata": {
        "id": "qilOycH0e6sH",
        "colab": {
          "base_uri": "https://localhost:8080/"
        },
        "outputId": "93c438ad-7314-4820-e937-2f3d617fc21b"
      },
      "execution_count": null,
      "outputs": [
        {
          "output_type": "execute_result",
          "data": {
            "text/plain": [
              "8"
            ]
          },
          "metadata": {},
          "execution_count": 19
        }
      ]
    },
    {
      "cell_type": "markdown",
      "source": [
        "###Problema 4\n",
        "Crie um programa que sorteia aleatoriamente um número inteiro menor que 100.\n",
        "\n",
        "Dica: use a função `randrange()` da biblioteca random. Essa função recebe como parâmetro o valor limite para a escolha aleatória ou um intervalo se passado o limite mínimo e máximo. Por exemplo, `randrange(5)` gera valores inteiros menores que 5."
      ],
      "metadata": {
        "id": "LjICh61we7pD"
      }
    },
    {
      "cell_type": "code",
      "source": [
        "from random import randrange\n",
        "numero_sorteado = randrange(100)\n",
        "numero_sorteado"
      ],
      "metadata": {
        "id": "4ioyFJpMgcPF",
        "colab": {
          "base_uri": "https://localhost:8080/"
        },
        "outputId": "ec5624b0-87d4-4f72-c925-9f9d9675dbea"
      },
      "execution_count": null,
      "outputs": [
        {
          "output_type": "execute_result",
          "data": {
            "text/plain": [
              "42"
            ]
          },
          "metadata": {},
          "execution_count": 20
        }
      ]
    },
    {
      "cell_type": "markdown",
      "source": [
        "###Problema 5\n",
        "Crie um programa que solicite à pessoa usuária digitar dois números inteiros e calcular a potência do 1º número elevado ao 2º.\n",
        "\n",
        "Dica: use a função `pow()` da biblioteca math"
      ],
      "metadata": {
        "id": "7VIqP-5EfEuG"
      }
    },
    {
      "cell_type": "code",
      "source": [
        "1from math import pow\n",
        "\n",
        "a = int(input('Digite um número interio: '))\n",
        "b = int(input('Digite outro número interio: '))\n",
        "\n",
        "print(f'O primeiro numero {a} elevado ao segundo número {b} é {pow(a,b)}!')"
      ],
      "metadata": {
        "id": "OQAIbOdogcp-",
        "colab": {
          "base_uri": "https://localhost:8080/"
        },
        "outputId": "8f82be31-be1f-4c28-bf0c-c98755310e59"
      },
      "execution_count": null,
      "outputs": [
        {
          "output_type": "stream",
          "name": "stdout",
          "text": [
            "Digite um número interio: 1\n",
            "Digite outro número interio: 1\n",
            "O primeiro numero 1 elevado ao segundo número 1 é 1.0!\n"
          ]
        }
      ]
    },
    {
      "cell_type": "markdown",
      "source": [
        "###Problema 6\n",
        "Um programa deve ser escrito para sortear uma pessoa seguidora de uma rede social para ganhar um prêmio. A lista de participantes é numerada e devemos escolher aleatoriamente um número de acordo com a quantidade de participantes.\n",
        "\n",
        "Peça à pessoa usuária para fornecer o número de participantes do sorteio e devolva para ela o número sorteado."
      ],
      "metadata": {
        "id": "BVA5GHSnfNjb"
      }
    },
    {
      "cell_type": "code",
      "source": [
        "from random import randrange\n",
        "\n",
        "quantidade_participantes = int(input('Digite a quantidade de participantes: '))\n",
        "\n",
        "print(f'O seguidor sorteado foi o de número: {randrange(quantidade_participantes)}!')\n"
      ],
      "metadata": {
        "id": "UZ3fokOlgdM9",
        "colab": {
          "base_uri": "https://localhost:8080/"
        },
        "outputId": "dc38757b-f673-4cc3-fbe8-53a2927692a7"
      },
      "execution_count": null,
      "outputs": [
        {
          "output_type": "stream",
          "name": "stdout",
          "text": [
            "Digite a quantidade de participantes: 1\n",
            "O seguidor sorteado foi o de número: 0!\n"
          ]
        }
      ]
    },
    {
      "cell_type": "markdown",
      "source": [
        "###Problema 7\n",
        "Você recebeu uma demanda para gerar números de token para o acesso ao aplicativo de uma empresa. O token precisa ser par e variar de 1000 até 9998. Escreva um código que solicita à pessoa usuária o seu nome e exibe uma mensagem junto a esse token gerado aleatoriamente.\n",
        "\n",
        "\"Olá, [nome], o seu token de acesso é [token]! Seja bem-vindo(a)!\""
      ],
      "metadata": {
        "id": "RVYoAgKzfRiM"
      }
    },
    {
      "cell_type": "code",
      "source": [
        "from random import randrange\n",
        "\n",
        "nome = input(\"Digite seu nome:\")\n",
        "\n",
        "print(f'Olá, {nome}, o seu token de acesso é {randrange(1000,9999)}! Seja bem-vindo(a)!')"
      ],
      "metadata": {
        "id": "R8cmHfRbgdvG",
        "colab": {
          "base_uri": "https://localhost:8080/"
        },
        "outputId": "54c32066-d8a8-4098-9f3b-69a4cc8ee8c4"
      },
      "execution_count": null,
      "outputs": [
        {
          "output_type": "stream",
          "name": "stdout",
          "text": [
            "Digite seu nome:1\n",
            "Olá, 1, o seu token de acesso é 9344! Seja bem-vindo(a)!\n"
          ]
        }
      ]
    },
    {
      "cell_type": "markdown",
      "source": [
        "###Problema 8\n",
        "Para diversificar e atrair novos clientes, uma lanchonete criou um item misterioso em seu cardápio chamado \"salada de frutas surpresa\". Neste item, são escolhidas aleatoriamente 3 frutas de uma lista de 12 para compor a salada de frutas da pessoa cliente.\n",
        "\n",
        "Crie o código que faça essa seleção aleatória de acordo com a lista abaixo:"
      ],
      "metadata": {
        "id": "JhYmchd7fXPN"
      }
    },
    {
      "cell_type": "code",
      "source": [
        "from random import sample\n",
        "\n",
        "frutas = [\"maçã\", \"banana\", \"uva\", \"pêra\",\n",
        "          \"manga\", \"coco\", \"melancia\", \"mamão\",\n",
        "          \"laranja\", \"abacaxi\", \"kiwi\", \"ameixa\"]\n",
        "\n",
        "escolhidas = sample(frutas, k = 3)\n",
        "\n",
        "print(f'Sua salada de frutas surpresa vai ter {escolhidas[0]}, {escolhidas[1]} e {escolhidas[2]}!\\nAproveite sua salada de frutas!')"
      ],
      "metadata": {
        "id": "EgvQwKl7fb9c",
        "colab": {
          "base_uri": "https://localhost:8080/"
        },
        "outputId": "5a59d19c-f172-425d-d3a8-f9137b274ff1"
      },
      "execution_count": null,
      "outputs": [
        {
          "output_type": "stream",
          "name": "stdout",
          "text": [
            "Sua salada de frutas surpresa vai ter laranja, banana e coco!\n",
            "Aproveite sua salada de frutas!\n"
          ]
        }
      ]
    },
    {
      "cell_type": "markdown",
      "source": [
        "###Problema 9\n",
        " Você recebeu um desafio de calcular a raiz quadrada de uma lista de números, identificando quais resultaram em um número inteiro. A lista é a seguinte:"
      ],
      "metadata": {
        "id": "Q7tyYr1tfbRr"
      }
    },
    {
      "cell_type": "markdown",
      "source": [
        "Informe no final quais números possuem raízes inteiras e seus respectivos valores.\n",
        "Dica: use a comparação entre a divisão inteira (//) da raiz por 1 com o valor da raiz para verificar se o número é inteiro. Por exemplo:\n",
        "\n",
        "\n",
        "```\n",
        "num = 1.5\n",
        "num_2 = 2\n",
        "print(f'{num} é inteiro? :', num // 1 == num)\n",
        "print(f'{num_2} é inteiro? :', num_2 // 1 == num_2)\n",
        "\n",
        "```\n",
        "\n"
      ],
      "metadata": {
        "id": "NeabP-QafmxO"
      }
    },
    {
      "cell_type": "code",
      "source": [
        "import numpy as np\n",
        "\n",
        "numeros = [2, 8, 15, 23, 91, 112, 256]\n",
        "\n",
        "raizes = []\n",
        "natural = []\n",
        "\n",
        "for i in range(len(numeros)):\n",
        "  raizes.append(pow(numeros[i], 1/2))\n",
        "  if int(raizes[i]) == raizes[i]:\n",
        "    natural.append('é narutal')\n",
        "  else:\n",
        "    natural.append('não é narutal')\n",
        "  print(f'O numero {numeros[i]}, tem raiz quadrada igual a {raizes[i]} e {natural[i]}.')\n",
        "\n"
      ],
      "metadata": {
        "id": "CqEImuchepig",
        "colab": {
          "base_uri": "https://localhost:8080/"
        },
        "outputId": "149192b8-cf76-4ba5-8484-0fd0a68c5e5e"
      },
      "execution_count": null,
      "outputs": [
        {
          "output_type": "stream",
          "name": "stdout",
          "text": [
            "O numero 2, tem raiz quadrada igual a 1.4142135623730951 e não é narutal.\n",
            "O numero 8, tem raiz quadrada igual a 2.8284271247461903 e não é narutal.\n",
            "O numero 15, tem raiz quadrada igual a 3.872983346207417 e não é narutal.\n",
            "O numero 23, tem raiz quadrada igual a 4.795831523312719 e não é narutal.\n",
            "O numero 91, tem raiz quadrada igual a 9.539392014169456 e não é narutal.\n",
            "O numero 112, tem raiz quadrada igual a 10.583005244258363 e não é narutal.\n",
            "O numero 256, tem raiz quadrada igual a 16.0 e é narutal.\n"
          ]
        }
      ]
    },
    {
      "cell_type": "markdown",
      "source": [
        "###Problema 10\n",
        "Faça um programa para uma loja que vende grama para jardins. Essa loja trabalha com jardins circulares e o preço do metro quadrado da grama é de R$ 25,00. Peça à pessoa usuária o raio da área circular e devolva o valor em reais do quanto precisará pagar.\n",
        "\n",
        "Dica: use a variável `pi` e o método `pow()` da biblioteca math. O cálculo da área de um círculo é de: A = π*r^2 (lê-se pi vezes raio ao quadrado)."
      ],
      "metadata": {
        "id": "Q2UcHKVbfkOi"
      }
    },
    {
      "cell_type": "code",
      "source": [
        "from math import pow\n",
        "from math import pi\n",
        "\n",
        "\n",
        "raio = float(input('Digite o raio em metros do seu jardim circular: '))\n",
        "\n",
        "area = pi*pow(raio, 2)\n",
        "print(f'A area do jardim é igual {area:.2f} m²!')"
      ],
      "metadata": {
        "id": "olAA7GLigfM2",
        "colab": {
          "base_uri": "https://localhost:8080/"
        },
        "outputId": "17ca96c1-4e34-4bc4-e693-eda15f90f233"
      },
      "execution_count": null,
      "outputs": [
        {
          "output_type": "stream",
          "name": "stdout",
          "text": [
            "Digite o raio em metros do seu jardim circular: 1\n",
            "A area do jardim é igual 3.14 m²!\n"
          ]
        }
      ]
    },
    {
      "cell_type": "markdown",
      "source": [
        "#Funções\n",
        "São sequencias de instruções que podem ser reutilizadas no programa.\n"
      ],
      "metadata": {
        "id": "vx-geb30dFIP"
      }
    },
    {
      "cell_type": "markdown",
      "source": [
        "##BUILT-IN FUNCTIONS\n",
        "São as funções nativas do python e podem ser invocadas a qualquer momento."
      ],
      "metadata": {
        "id": "tRBMJmUEdsgv"
      }
    },
    {
      "cell_type": "markdown",
      "source": [
        "###Situação 1\n",
        "A escola em que estamos construindo o nosso case de dados compartilhou os dados das notas de um estudante para que pudéssemos calcular a média deste em até uma casa decimal. Os dados recebidos correspondem a um dicionário com as chaves indicando o trimestre em questão e os valores das notas de cada trimestre do estudante em uma dada matéria."
      ],
      "metadata": {
        "id": "Iqfk9DUjeA7M"
      }
    },
    {
      "cell_type": "code",
      "source": [
        "#Notas do(a) estudante\n",
        "notas = {'1° Trimestre': 8.5, '2° Trimestre': 9.5, '3º trimestre': 7}\n",
        "notas"
      ],
      "metadata": {
        "colab": {
          "base_uri": "https://localhost:8080/"
        },
        "id": "waKz2HBpeAcZ",
        "outputId": "ce538290-9dc5-43f1-f498-174bb6baa9ef"
      },
      "execution_count": null,
      "outputs": [
        {
          "output_type": "execute_result",
          "data": {
            "text/plain": [
              "{'1° Trimestre': 8.5, '2° Trimestre': 9.5, '3º trimestre': 7}"
            ]
          },
          "metadata": {},
          "execution_count": 27
        }
      ]
    },
    {
      "cell_type": "code",
      "source": [
        "soma = 0\n",
        "for nota in notas.values():  #transformou os elementos do dic em uma lista de valores\n",
        "  soma += nota\n",
        "soma"
      ],
      "metadata": {
        "colab": {
          "base_uri": "https://localhost:8080/"
        },
        "id": "3NEOmTQMd6O1",
        "outputId": "a8b21caa-066c-4b5c-ae9f-9ea29ec79293"
      },
      "execution_count": null,
      "outputs": [
        {
          "output_type": "execute_result",
          "data": {
            "text/plain": [
              "25.0"
            ]
          },
          "metadata": {},
          "execution_count": 28
        }
      ]
    },
    {
      "cell_type": "code",
      "source": [
        "somatorio = sum(notas.values())\n",
        "somatorio"
      ],
      "metadata": {
        "colab": {
          "base_uri": "https://localhost:8080/"
        },
        "id": "vaO7ao0_dApp",
        "outputId": "f47e9076-0f2c-4c86-de19-6d038add3d17"
      },
      "execution_count": null,
      "outputs": [
        {
          "output_type": "execute_result",
          "data": {
            "text/plain": [
              "25.0"
            ]
          },
          "metadata": {},
          "execution_count": 29
        }
      ]
    },
    {
      "cell_type": "code",
      "source": [
        "quantidade_notas = len(notas)\n",
        "quantidade_notas"
      ],
      "metadata": {
        "colab": {
          "base_uri": "https://localhost:8080/"
        },
        "id": "zpQ4mgdshRbc",
        "outputId": "67cc8b95-8bde-4f02-85eb-9236672662d3"
      },
      "execution_count": null,
      "outputs": [
        {
          "output_type": "execute_result",
          "data": {
            "text/plain": [
              "3"
            ]
          },
          "metadata": {},
          "execution_count": 30
        }
      ]
    },
    {
      "cell_type": "code",
      "source": [
        "media = somatorio/quantidade_notas\n",
        "media"
      ],
      "metadata": {
        "colab": {
          "base_uri": "https://localhost:8080/"
        },
        "id": "b2cuQQIqhWJv",
        "outputId": "64d5d07c-07de-4b5d-852f-1c667eea20b7"
      },
      "execution_count": null,
      "outputs": [
        {
          "output_type": "execute_result",
          "data": {
            "text/plain": [
              "8.333333333333334"
            ]
          },
          "metadata": {},
          "execution_count": 31
        }
      ]
    },
    {
      "cell_type": "code",
      "source": [
        "media = round(media, 2)\n",
        "media\n"
      ],
      "metadata": {
        "colab": {
          "base_uri": "https://localhost:8080/"
        },
        "id": "PggdgbH9nAln",
        "outputId": "5067dac0-03e6-4d21-9d70-fa557e69ddd6"
      },
      "execution_count": null,
      "outputs": [
        {
          "output_type": "execute_result",
          "data": {
            "text/plain": [
              "8.33"
            ]
          },
          "metadata": {},
          "execution_count": 32
        }
      ]
    },
    {
      "cell_type": "markdown",
      "source": [
        "##Criando Funções"
      ],
      "metadata": {
        "id": "kwVPhIRnnOci"
      }
    },
    {
      "cell_type": "markdown",
      "source": [
        "###Função sem parâmetros\n",
        "  \n",
        "    def <nome>():**negrito**\n",
        "       <isntrução>"
      ],
      "metadata": {
        "id": "ZFNNEscAoDm2"
      }
    },
    {
      "cell_type": "code",
      "source": [
        "def media():\n",
        "  media_calculada = round((19 + 21 + 21) / 3, 2)\n",
        "  print(media_calculada)"
      ],
      "metadata": {
        "id": "hfBpl0glnSbL"
      },
      "execution_count": null,
      "outputs": []
    },
    {
      "cell_type": "code",
      "source": [
        "media()"
      ],
      "metadata": {
        "colab": {
          "base_uri": "https://localhost:8080/"
        },
        "id": "F0NzDmylocvi",
        "outputId": "35e1742b-8041-4e4b-a3e3-c199109e4e63"
      },
      "execution_count": null,
      "outputs": [
        {
          "output_type": "stream",
          "name": "stdout",
          "text": [
            "20.33\n"
          ]
        }
      ]
    },
    {
      "cell_type": "markdown",
      "source": [
        "###Funções com parâmetros\n",
        "    def <nomes>(nota1, nota2, nota3):\n",
        "      <instruções envolvendo os parâmetros>"
      ],
      "metadata": {
        "id": "qZhoDL_pon2m"
      }
    },
    {
      "cell_type": "code",
      "source": [
        "def mediaNotas(nota1, nota2, nota3):\n",
        "  media = round((nota1 + nota2 + nota3)/3, 3)\n",
        "  print(media)"
      ],
      "metadata": {
        "id": "1Ebum8j2onQ9"
      },
      "execution_count": null,
      "outputs": []
    },
    {
      "cell_type": "code",
      "source": [
        "mediaNotas(10, 5, 9)"
      ],
      "metadata": {
        "colab": {
          "base_uri": "https://localhost:8080/"
        },
        "id": "j94FmAdWpLDR",
        "outputId": "e2df1965-7c1f-4c31-9a85-1a3074602d3c"
      },
      "execution_count": null,
      "outputs": [
        {
          "output_type": "stream",
          "name": "stdout",
          "text": [
            "8.0\n"
          ]
        }
      ]
    },
    {
      "cell_type": "markdown",
      "source": [
        "####Situação 2:\n",
        "Recebemos uma demanda de calcular a média de um estudante a partir de uma lista, sendo possível alterar a quantidade de notas, sem impedir que o cálculo seja refeito. Os dados recebidos, desta vez, correspondem a uma lista contendo apenas as notas de um estudante em uma dada matéria."
      ],
      "metadata": {
        "id": "MYeaHDkJpOj3"
      }
    },
    {
      "cell_type": "code",
      "source": [
        "# Notas do(a) estudante\n",
        "notas = [8.5, 9.0, 6.0, 10.0, 5, 6]"
      ],
      "metadata": {
        "id": "zJZDgCsmpOUO"
      },
      "execution_count": null,
      "outputs": []
    },
    {
      "cell_type": "code",
      "source": [
        "def mediaS(lista):\n",
        "  media = sum(lista)/len(lista)\n",
        "  print(media)"
      ],
      "metadata": {
        "id": "bnqE8pV4gjRo"
      },
      "execution_count": null,
      "outputs": []
    },
    {
      "cell_type": "code",
      "source": [
        "resul = mediaS(notas)\n",
        "type(resul)"
      ],
      "metadata": {
        "colab": {
          "base_uri": "https://localhost:8080/"
        },
        "id": "47Tsfvt2g45A",
        "outputId": "a53e4422-11d3-4952-c36d-66114234f877"
      },
      "execution_count": null,
      "outputs": [
        {
          "output_type": "stream",
          "name": "stdout",
          "text": [
            "7.416666666666667\n"
          ]
        },
        {
          "output_type": "execute_result",
          "data": {
            "text/plain": [
              "NoneType"
            ]
          },
          "metadata": {},
          "execution_count": 39
        }
      ]
    },
    {
      "cell_type": "markdown",
      "source": [
        "###Funções que retornam valores\n",
        "\n",
        "    def <nome>(<parametro1>, <parametro2>, ...):\n",
        "      <instruções>\n",
        "      return <resultado>"
      ],
      "metadata": {
        "id": "4fge6sF9iLCD"
      }
    },
    {
      "cell_type": "code",
      "source": [
        "def mediaS2(lista):\n",
        "  media = sum(lista)/len(lista)\n",
        "  return media"
      ],
      "metadata": {
        "id": "gVc7sSxeiRQm"
      },
      "execution_count": null,
      "outputs": []
    },
    {
      "cell_type": "code",
      "source": [
        "resultado = mediaS2(notas)\n",
        "a = [resultado, type(resultado)]\n",
        "a\n"
      ],
      "metadata": {
        "colab": {
          "base_uri": "https://localhost:8080/"
        },
        "id": "f5CJH3oXiKSv",
        "outputId": "e5a90b12-0fa4-4f3d-a103-c29eb7871a52"
      },
      "execution_count": null,
      "outputs": [
        {
          "output_type": "execute_result",
          "data": {
            "text/plain": [
              "[7.416666666666667, float]"
            ]
          },
          "metadata": {},
          "execution_count": 41
        }
      ]
    },
    {
      "cell_type": "markdown",
      "source": [
        "####Situação 3:\n",
        "Recebemos uma nova demanda, desta vez, de calcular a média de um estudante a partir de uma lista e retornar tanto a média quanto a situação do estudante (\"Aprovado(a)\" se a nota for maior ou igual a 6.0, caso contrário, será \"Reprovado(a)\"). Além disso, precisamos exibir um pequeno texto em que indicamos a média do(a) estudante e qual a situação. Os dados recebidos correspondem a uma lista contendo apenas as notas de um estudante em uma dada matéria."
      ],
      "metadata": {
        "id": "x-EAZBZDjhoo"
      }
    },
    {
      "cell_type": "code",
      "source": [
        "def verificador(lista):\n",
        "  media = sum(lista)/len(lista)\n",
        "  if media >= 6:\n",
        "    situacao = \"aprovado!(a)\"\n",
        "  else:\n",
        "    situacao = \"reprovado!(a)\"\n",
        "\n",
        "  return (situacao, round(media,2))"
      ],
      "metadata": {
        "id": "Ro6iovIfjhG0"
      },
      "execution_count": null,
      "outputs": []
    },
    {
      "cell_type": "code",
      "source": [
        "situacao, media = verificador(notas)  #implementação dupla, cada uma das variaveis recebe um dos resultados em ordem.\n",
        "print(f'O(A) aluno(a) foi {situacao} com média {media}!')\n"
      ],
      "metadata": {
        "colab": {
          "base_uri": "https://localhost:8080/"
        },
        "id": "apGjqRWpj_O-",
        "outputId": "098b6824-ff31-4d4a-d374-05f545e428bb"
      },
      "execution_count": null,
      "outputs": [
        {
          "output_type": "stream",
          "name": "stdout",
          "text": [
            "O(A) aluno(a) foi aprovado!(a) com média 7.42!\n"
          ]
        }
      ]
    },
    {
      "cell_type": "markdown",
      "source": [
        " #### Type Hint\n",
        "    def <nome>(<param>: <tipo_param>) -> <tipo_retorno>:\n",
        "      <instruções>\n",
        "      return resultado"
      ],
      "metadata": {
        "id": "_77ElFM7ndRE"
      }
    },
    {
      "cell_type": "code",
      "source": [
        "# a nossa função recebe uma lista do tipo list e retorna uma variável do tipo float\n",
        "def media(lista: list) -> float:\n",
        "  calculo = sum(lista) / len(lista)\n",
        "  return calculo"
      ],
      "metadata": {
        "id": "jkmodBUDnj3W"
      },
      "execution_count": null,
      "outputs": []
    },
    {
      "cell_type": "markdown",
      "source": [
        "####Default Value\n",
        "É um valor padrão atribuído a um argumento de função, que é utilizado caso nenhum valor seja passado pelo usuário.\n",
        "  \n",
        " ` <nome_variavel>: <tipo_variavel> = <valor_variavel>`"
      ],
      "metadata": {
        "id": "kBMNk9R4nxh8"
      }
    },
    {
      "cell_type": "code",
      "source": [
        "# a nossa função recebe uma lista do tipo list e retorna uma variável do tipo float\n",
        "# caso não recebe nenhum valor de parâmetro será passada uma lista com um único\n",
        "# elemento sendo ele zero\n",
        "def media(lista: list=[0]) -> float:\n",
        "  calculo = sum(lista) / len(lista)\n",
        "  return calculo"
      ],
      "metadata": {
        "id": "rxetr4a-nxEi"
      },
      "execution_count": null,
      "outputs": []
    },
    {
      "cell_type": "code",
      "source": [
        "media()"
      ],
      "metadata": {
        "colab": {
          "base_uri": "https://localhost:8080/"
        },
        "id": "HFxq-t-wnnhB",
        "outputId": "a0a39c17-8b57-4ad8-d18f-b760ed2ed8d5"
      },
      "execution_count": null,
      "outputs": [
        {
          "output_type": "execute_result",
          "data": {
            "text/plain": [
              "0.0"
            ]
          },
          "metadata": {},
          "execution_count": 46
        }
      ]
    },
    {
      "cell_type": "markdown",
      "source": [
        "####Docstring\n",
        "É uma string literal usada para documentar um módulo, função, classe ou método em Python. Ela é colocada como o primeiro item de definição e pode ser acessada usando a função help().\n",
        "\n",
        "    def <nome>(<param_1>, <param_2>, ..., <param_n>):\n",
        "        ''' Texto documentando sua função...\n",
        "        '''\n",
        "      <instruções>\n",
        "      return resultado"
      ],
      "metadata": {
        "id": "jSuyFMqBoN5A"
      }
    },
    {
      "cell_type": "code",
      "source": [
        "def media(lista: list=[0]) -> float:\n",
        "  ''' Função para calcular a média de notas passadas por uma lista\n",
        "\n",
        "  lista: list, default [0]\n",
        "    Lista com as notas para calcular a média\n",
        "  return = calculo: float\n",
        "    Média calculada\n",
        "  '''\n",
        "  calculo = sum(lista) / len(lista)\n",
        "  return calculo"
      ],
      "metadata": {
        "id": "D9ne_juDoUG6"
      },
      "execution_count": null,
      "outputs": []
    },
    {
      "cell_type": "code",
      "source": [
        "help(media)"
      ],
      "metadata": {
        "colab": {
          "base_uri": "https://localhost:8080/"
        },
        "id": "XT4arnmYobnd",
        "outputId": "5d528e45-2ac1-4089-bdf2-39827ade19c4"
      },
      "execution_count": null,
      "outputs": [
        {
          "output_type": "stream",
          "name": "stdout",
          "text": [
            "Help on function media in module __main__:\n",
            "\n",
            "media(lista: list = [0]) -> float\n",
            "    Função para calcular a média de notas passadas por uma lista\n",
            "    \n",
            "    lista: list, default [0]\n",
            "      Lista com as notas para calcular a média\n",
            "    return = calculo: float\n",
            "      Média calculada\n",
            "\n"
          ]
        }
      ]
    },
    {
      "cell_type": "markdown",
      "source": [
        "###Funções Lambda\n",
        "São funções que ideais para serem aplicadas somente uma vez e em um formato resumido.\n",
        "\n",
        "    lambda <variável> : <expressão>"
      ],
      "metadata": {
        "id": "kBCcRV0hnPzc"
      }
    },
    {
      "cell_type": "markdown",
      "source": [
        "####Situação 4\n",
        "Nesta nova demanda, precisamos criar uma calculadora simples da média ponderada de notas de uma dada matéria. Vamos requisitar ao usuário a entrada das 3 notas (N1, N2, N3) do estudante e devolver a média ponderada deste estudante. Os pesos das notas são de, respectivamente 3, 2, 5. Precisamos exibir um pequeno texto em que indicamos a média do(a) estudante. Vamos resolver esse desafio?"
      ],
      "metadata": {
        "id": "5dHy9Jqjo6HE"
      }
    },
    {
      "cell_type": "code",
      "source": [
        "N1 = float(input('Digite uma nota com peso 3: '))\n",
        "N2 = float(input('Digite uma nota com peso 2: '))\n",
        "N3 = float(input('Digite uma nota com peso 5: '))\n",
        "\n",
        "nota_final = lambda x, y, z: (3*x + 2*y + 5*z)/(3+2+5)\n",
        "\n",
        "media_estudante = nota_final(N1, N2, N3)\n",
        "\n",
        "print(f'O estudante atingiu a média {media_estudante}!')"
      ],
      "metadata": {
        "colab": {
          "base_uri": "https://localhost:8080/"
        },
        "id": "HASy84oZo-Qi",
        "outputId": "5cc76580-fad5-4cc8-9595-3b64025c6bd6"
      },
      "execution_count": null,
      "outputs": [
        {
          "output_type": "stream",
          "name": "stdout",
          "text": [
            "Digite uma nota com peso 3: 1\n",
            "Digite uma nota com peso 2: 1\n",
            "Digite uma nota com peso 5: 1\n",
            "O estudante atingiu a média 1.0!\n"
          ]
        }
      ]
    },
    {
      "cell_type": "markdown",
      "source": [
        "###Map\n",
        "O map é uma _BUILT-IN FUNCTIONS que mapeia valores. Quando usado junto à lambda, conseguimos realizar funções simples e rápidas que nos permitem alterar valores de variáveis, listas e até dicionários.\n",
        "    \n",
        "    \n",
        "    map(<lambda function>, <iterador>)"
      ],
      "metadata": {
        "id": "0cLYcEo6txQi"
      }
    },
    {
      "cell_type": "markdown",
      "source": [
        "####Situação 5\n",
        "Recebemos mais uma demanda, desta vez, para criar uma pequena função que pudesse adicionar qualitativo (pontuação extra) às notas do trimestre dos estudantes da turma que ganhou a gincana de programação promovida pela escola. Cada estudante receberá o qualitativo de 0.5 acrescido à média. Os dados recebidos correspondem a uma lista contendo as notas de alguns estudantes e uma variável com o qualitativo recebido."
      ],
      "metadata": {
        "id": "A-Jmvaqfs8jB"
      }
    },
    {
      "cell_type": "code",
      "source": [
        "# Notas do(a) estudante\n",
        "notas = [6.0, 7.0, 9.0, 5.5, 8.0]\n",
        "qualitativo = 0.5"
      ],
      "metadata": {
        "id": "kXIvPeswtK3T"
      },
      "execution_count": null,
      "outputs": []
    },
    {
      "cell_type": "code",
      "source": [
        "notas_atualizadas = map(lambda x: x + qualitativo, notas) #foi feita a mudança mas precisamos do list para retornar a uma lista.\n",
        "'''\n",
        "x era referente a variável que vai ser iterada, vai passar por cada caso.\n",
        "'''\n",
        "notas_atualizadas"
      ],
      "metadata": {
        "colab": {
          "base_uri": "https://localhost:8080/"
        },
        "id": "_jppw7pct8RT",
        "outputId": "fa451f86-5994-4c39-b423-0ca7df1cd168"
      },
      "execution_count": null,
      "outputs": [
        {
          "output_type": "execute_result",
          "data": {
            "text/plain": [
              "<map at 0x7c4c94114250>"
            ]
          },
          "metadata": {},
          "execution_count": 51
        }
      ]
    },
    {
      "cell_type": "code",
      "source": [
        "notas_atualizadas = list(notas_atualizadas)\n",
        "notas_atualizadas"
      ],
      "metadata": {
        "colab": {
          "base_uri": "https://localhost:8080/"
        },
        "id": "iZ9TAtxAuapS",
        "outputId": "020c8281-d881-48eb-a3df-83644d0d9fac"
      },
      "execution_count": null,
      "outputs": [
        {
          "output_type": "execute_result",
          "data": {
            "text/plain": [
              "[6.5, 7.5, 9.5, 6.0, 8.5]"
            ]
          },
          "metadata": {},
          "execution_count": 52
        }
      ]
    },
    {
      "cell_type": "code",
      "source": [
        "##Multiplos iteradores\n",
        "notas = [6.0, 7.0, 9.0, 5.5, 8.0]\n",
        "qualitativo = [0.5, 10]\n",
        "\n",
        "\n",
        "notas_atualizadas = map(lambda x, y: x + y, notas, qualitativo)   #em casos de duplo iteradores ele faz a menor quantidade de vezes.\n",
        "notas_atualizadas = list(notas_atualizadas)\n",
        "notas_atualizadas"
      ],
      "metadata": {
        "colab": {
          "base_uri": "https://localhost:8080/"
        },
        "id": "BPAlFxALwEwC",
        "outputId": "1afd0659-a02c-4ea3-e08f-0462e96893da"
      },
      "execution_count": null,
      "outputs": [
        {
          "output_type": "execute_result",
          "data": {
            "text/plain": [
              "[6.5, 17.0]"
            ]
          },
          "metadata": {},
          "execution_count": 53
        }
      ]
    },
    {
      "cell_type": "code",
      "source": [
        "#lambda dentro de lambda\n",
        "notas = [6.0, 7.0, 9.0, 5.5, 8.0]\n",
        "qualitativo = [0.1, 10, 100]\n",
        "\n",
        "\n",
        "notas_atualizadas = map(lambda x: (map(lambda y :x + y, notas)) , qualitativo)   #em casos de duplo iteradores ele faz a menor quantidade de vezes.\n",
        "\"\"\"\n",
        "Começa de fora para dentro, ele escolhe o qualitativo que vai começar somar, e depois vai somando cada uma das notas\n",
        "muda para o proximo qualitativo e repete\n",
        "\"\"\"\n",
        "for i in notas_atualizadas:\n",
        "  print(list(i))\n"
      ],
      "metadata": {
        "colab": {
          "base_uri": "https://localhost:8080/"
        },
        "id": "SuwNeFPkwjFR",
        "outputId": "ab534941-8c99-4be1-a52b-6545fb89766f"
      },
      "execution_count": null,
      "outputs": [
        {
          "output_type": "stream",
          "name": "stdout",
          "text": [
            "[6.1, 7.1, 9.1, 5.6, 8.1]\n",
            "[16.0, 17.0, 19.0, 15.5, 18.0]\n",
            "[106.0, 107.0, 109.0, 105.5, 108.0]\n"
          ]
        }
      ]
    },
    {
      "cell_type": "markdown",
      "source": [
        "##Desafios 2"
      ],
      "metadata": {
        "id": "86GgevETzX-Y"
      }
    },
    {
      "cell_type": "markdown",
      "source": [
        "###Problema 1\n",
        "Escreva um código que lê a lista abaixo e faça:\n",
        "\n",
        "*   A leitura do tamanho da lista\n",
        "*   A leitura do maior e menor valor\n",
        "*   A soma dos valores da lista\n",
        "\n",
        "\n",
        "Ao final exiba uma mensagem dizendo:\n",
        "\n",
        "`\"A lista possui [tam] números em que o maior número é [maior] e o menor número é [menor]. A soma dos valores presentes nela é igual a [soma]\"`\n"
      ],
      "metadata": {
        "id": "znPTwuejzaPv"
      }
    },
    {
      "cell_type": "code",
      "source": [
        "lista = [16, 14, 63, 65, 17, 99, 70, 11, 20, 48, 79, 32, 17, 89, 12, 25, 66]\n",
        "\n",
        "tam = len(lista)\n",
        "maior = 0\n",
        "\n",
        "for i in lista:\n",
        "  if i > maior:\n",
        "    maior = i\n",
        "\n",
        "menor = maior\n",
        "for i in lista:\n",
        "  if i < menor:\n",
        "    menor = i\n",
        "soma = sum(lista)\n",
        "\n",
        "print(f'A lista possui {tam} números em que o maior número é {maior} e o menor número é {menor}. A soma dos valores presentes nela é igual a {soma}')"
      ],
      "metadata": {
        "colab": {
          "base_uri": "https://localhost:8080/"
        },
        "id": "C7-UpZI04VXz",
        "outputId": "fcd0b084-0909-4454-ef16-f1f5cc0d150b"
      },
      "execution_count": null,
      "outputs": [
        {
          "output_type": "stream",
          "name": "stdout",
          "text": [
            "A lista possui 17 números em que o maior número é 99 e o menor número é 11. A soma dos valores presentes nela é igual a 743\n"
          ]
        }
      ]
    },
    {
      "cell_type": "markdown",
      "source": [
        "###Problema 2\n",
        "Escreva uma função que gere a tabuada de um número inteiro de 1 a 10, de acordo com a escolha da pessoa usuária. Como exemplo, para o número 7, a tabuada deve ser mostrada no seguinte formato:"
      ],
      "metadata": {
        "id": "9_WSkbAjz_QU"
      }
    },
    {
      "cell_type": "code",
      "source": [
        "numero= int(input('Digite um número que deseja a tabuada: '))\n",
        "\n",
        "print(f\"Tabuda de {numero}!\")\n",
        "for i in range(10):\n",
        "  print(f'{i+1} * {numero} = {numero*(i+1)}')"
      ],
      "metadata": {
        "colab": {
          "base_uri": "https://localhost:8080/"
        },
        "id": "k3HP5xv85MyK",
        "outputId": "d18e8e02-151a-4712-9edf-7fc65de6d4c5"
      },
      "execution_count": null,
      "outputs": [
        {
          "output_type": "stream",
          "name": "stdout",
          "text": [
            "Digite um número que deseja a tabuada: 1\n",
            "Tabuda de 1!\n",
            "1 * 1 = 1\n",
            "2 * 1 = 2\n",
            "3 * 1 = 3\n",
            "4 * 1 = 4\n",
            "5 * 1 = 5\n",
            "6 * 1 = 6\n",
            "7 * 1 = 7\n",
            "8 * 1 = 8\n",
            "9 * 1 = 9\n",
            "10 * 1 = 10\n"
          ]
        }
      ]
    },
    {
      "cell_type": "markdown",
      "source": [
        "###Problema 3\n",
        "3) Crie a função que leia a lista abaixo e retorne uma nova lista com os múltiplos de 3:\n",
        "\n",
        "\n",
        "```\n",
        "[97, 80, 94, 88, 80, 1, 16, 53, 62, 32, 24, 99]\n",
        "\n",
        "```\n",
        "\n",
        "Utilize o `return` na função e salve a nova lista na variável `mult_3`"
      ],
      "metadata": {
        "id": "qn8tv-ci0AJc"
      }
    },
    {
      "cell_type": "code",
      "source": [
        "lista = [97, 80, 94, 88, 80, 1, 16, 53, 62, 32, 24, 99]\n",
        "nova_lista = []\n",
        "def eh_multiplo3(lista, nova_lista):\n",
        "  for i in lista:\n",
        "    if i%3 == 0:\n",
        "      nova_lista.append(i)\n",
        "  return nova_lista"
      ],
      "metadata": {
        "id": "khp1BlnX5-lh"
      },
      "execution_count": null,
      "outputs": []
    },
    {
      "cell_type": "code",
      "source": [
        "eh_multiplo3(lista, nova_lista)"
      ],
      "metadata": {
        "colab": {
          "base_uri": "https://localhost:8080/"
        },
        "id": "JUfsI6nZ6dxR",
        "outputId": "00999f78-1a74-47d8-fdc2-5bfc641e7fdf"
      },
      "execution_count": null,
      "outputs": [
        {
          "output_type": "execute_result",
          "data": {
            "text/plain": [
              "[24, 99]"
            ]
          },
          "metadata": {},
          "execution_count": 58
        }
      ]
    },
    {
      "cell_type": "markdown",
      "source": [
        "###Problema 4\n",
        "Crie uma lista dos quadrados dos números da seguinte lista `[1, 2, 3, 4, 5, 6, 7, 8, 9, 10]`.\n",
        "\n",
        "Lembre-se de utilizar as funções `lambda` e `map()` para calcular o quadrado de cada elemento da lista."
      ],
      "metadata": {
        "id": "7eppb2ol0A4m"
      }
    },
    {
      "cell_type": "code",
      "source": [
        "lista = [1, 2, 3, 4, 5, 6, 7, 8, 9, 10]\n",
        "\n",
        "nova_lista =list(map(lambda x : x**2 , lista))\n",
        "nova_lista\n"
      ],
      "metadata": {
        "colab": {
          "base_uri": "https://localhost:8080/"
        },
        "id": "6aiPIVy7689X",
        "outputId": "29c7abb4-4834-45ef-e0f4-bd7b22124310"
      },
      "execution_count": null,
      "outputs": [
        {
          "output_type": "execute_result",
          "data": {
            "text/plain": [
              "[1, 4, 9, 16, 25, 36, 49, 64, 81, 100]"
            ]
          },
          "metadata": {},
          "execution_count": 59
        }
      ]
    },
    {
      "cell_type": "markdown",
      "source": [
        "###Problema 5\n",
        "Você foi contratado(a) como cientista de dados de uma associação de skate. Para analisar as notas recebidas de skatistas em algumas competições ao longo do ano, você precisa criar um código que calcula a pontuação dos(as) atletas. Para isso, o seu código deve receber 5 notas digitadas pelas pessoas juradas.\n",
        "\n",
        "Para calcular a pontuação de um(a) skatista, você precisa eliminar a maior e a menor pontuação dentre as 5 notas e tirar a média das 3 notas que sobraram.\n",
        "\n",
        "Retorne a média para apresentar o texto:\n",
        "\n",
        "\"Nota da manobra: [media]\""
      ],
      "metadata": {
        "id": "8Dzn-6-00BzX"
      }
    },
    {
      "cell_type": "code",
      "source": [
        "lista = []\n",
        "\n",
        "maior = 0\n",
        "menor = 99999\n",
        "###Pega as notas\n",
        "for i in range(5):\n",
        "  nota = int(input(f\"Digite a {i+1}° nota: \"))\n",
        "  lista.append(nota)\n",
        "\n",
        "###Descobre o maior\n",
        "for i in lista:\n",
        "  if i > maior:\n",
        "    maior = i\n",
        "\n",
        "###Com o maior eu descubro o menor\n",
        "menor = maior\n",
        "for i in lista:\n",
        "  if i < menor:\n",
        "    menor = i\n",
        "\n",
        "###Remove o maior e o menor\n",
        "lista.remove(menor)\n",
        "lista.remove(maior)\n",
        "\n",
        "###Calcula a media\n",
        "media = sum(lista)/len(lista)\n",
        "\n",
        "##Imprime o resultado\n",
        "print(f'Nota da manobra: {media:.2f}')\n",
        "\n",
        "\n"
      ],
      "metadata": {
        "colab": {
          "base_uri": "https://localhost:8080/"
        },
        "id": "_33cnbNc7LZ2",
        "outputId": "052b4af5-d46c-4a61-f59d-4cbdde873a01"
      },
      "execution_count": null,
      "outputs": [
        {
          "output_type": "stream",
          "name": "stdout",
          "text": [
            "Digite a 1° nota: 1\n",
            "Digite a 2° nota: 1\n",
            "Digite a 3° nota: 1\n",
            "Digite a 4° nota: 1\n",
            "Digite a 5° nota: 1\n",
            "Nota da manobra: 1.00\n"
          ]
        }
      ]
    },
    {
      "cell_type": "markdown",
      "source": [
        "###Problema 6\n",
        "\n",
        "Para atender a uma demanda de uma instituição de ensino para a análise do desempenho de seus(suas) estudantes, você precisa criar uma função que receba uma lista de 4 notas e retorne: - maior nota - menor nota - média - situação (Aprovado(a) ou Reprovado(a))\n",
        "\n",
        "Para testar o comportamento da função, os dados podem ser exibidos em um texto:\n",
        "\n",
        "\n",
        "```\n",
        " \"O(a) estudante obteve uma média de [media], com a sua maior nota de [maior] pontos e a menor nota de [menor] pontos e foi [situacao]\"\n",
        "\n",
        "```\n",
        "\n"
      ],
      "metadata": {
        "id": "ipivumH-0DDN"
      }
    },
    {
      "cell_type": "code",
      "source": [
        "lista = []\n",
        "maior = 0\n",
        "\n",
        "###Recebendo as notas\n",
        "for i in range(4):\n",
        "  nota = float(input(f\"Digite a {i+1}° nota: \"))\n",
        "  lista.append(nota)\n",
        "\n",
        "###Descobre o maior\n",
        "for i in lista:\n",
        "  if i > maior:\n",
        "    maior = i\n",
        "\n",
        "###Com o maior eu descubro o menor\n",
        "menor = maior\n",
        "for i in lista:\n",
        "  if i < menor:\n",
        "    menor = i\n",
        "##Calcula a media\n",
        "media = sum(lista)/len(lista)\n",
        "\n",
        "situacao = ''\n",
        "###Situação do aluno\n",
        "if media < 6:\n",
        "  situacao = 'Reprovado'\n",
        "else:\n",
        "  situacao = 'Aprovado'\n",
        "\n",
        "\n",
        "##Imprime o resultado\n",
        "print('\\nBoletim do estudante')\n",
        "print(f'Menor nota: {menor:.2f}')\n",
        "print(f'Maior nota: {maior:.2f}')\n",
        "print(f'Media: {media:.2f}')\n",
        "print(f'Situação: {situacao}')"
      ],
      "metadata": {
        "colab": {
          "base_uri": "https://localhost:8080/"
        },
        "id": "ryNQBFts9RTd",
        "outputId": "49670996-7aed-4926-e828-d8f2013c516b"
      },
      "execution_count": null,
      "outputs": [
        {
          "output_type": "stream",
          "name": "stdout",
          "text": [
            "Digite a 1° nota: 2\n",
            "Digite a 2° nota: 3\n",
            "Digite a 3° nota: 2\n",
            "Digite a 4° nota: 3\n",
            "\n",
            "Boletim do estudante\n",
            "Menor nota: 2.00\n",
            "Maior nota: 3.00\n",
            "Media: 2.50\n",
            "Situação: Reprovado\n"
          ]
        }
      ]
    },
    {
      "cell_type": "markdown",
      "source": [
        "###Problema 7\n",
        "Você recebeu uma demanda para tratar 2 listas com os nomes e sobrenomes de cada estudante concatenando-as para apresentar seus nomes completos na forma `Nome Sobrenome`.\n",
        "\n",
        "```\n",
        "\n",
        " upper(self, /)\n",
        " |      Return a copy of the string converted to uppercase.\n",
        "\n",
        " lower(self, /)\n",
        " |      Return a copy of the string converted to lowercase.\n",
        "\n",
        " join(self, iterable, /)\n",
        " |      Concatenate any number of strings.\n",
        " |      \n",
        " |      The string whose method is called is inserted in between each given string.\n",
        " |      The result is returned as a new string.\n",
        " |      \n",
        " |      Example: '.'.join(['ab', 'pq', 'rs']) -> 'ab.pq.rs'\n",
        "\n",
        " capitalize(self, /)\n",
        " |      Return a capitalized version of the string.\n",
        " |      \n",
        " |      More specifically, make the first character have upper case and the rest lower\n",
        " |      case.\n",
        "\n",
        "\n",
        "```\n",
        "\n",
        "\n",
        "\n",
        "\n",
        "As listas são:"
      ],
      "metadata": {
        "id": "ggfR9lhu0D6D"
      }
    },
    {
      "cell_type": "markdown",
      "source": [
        "O texto exibido ao fim deve ser parecido com:\n",
        "\n",
        "`\"Nome completo: Ana Silva\"`\n"
      ],
      "metadata": {
        "id": "aTrvliKM0v37"
      }
    },
    {
      "cell_type": "code",
      "source": [
        "nomes = [\"joão\", \"MaRia\", \"JOSÉ\"]\n",
        "sobrenomes = [\"SILVA\", \"souza\", \"Tavares\"]\n",
        "nome_completo = []\n",
        "\n",
        "for i in range(3):\n",
        "  nomes[i] = (nomes[i].lower()).capitalize()\n",
        "  sobrenomes[i] = (sobrenomes[i].lower()).capitalize()\n",
        "  nome_completo.append(nomes[i]+ ' '+sobrenomes[i])\n",
        "  print(f'Nome completo: {nome_completo[i]}')"
      ],
      "metadata": {
        "id": "QcgL0OIR0thQ",
        "colab": {
          "base_uri": "https://localhost:8080/"
        },
        "outputId": "1e1aafbe-fa66-47b7-e952-a62ce11e70bd"
      },
      "execution_count": null,
      "outputs": [
        {
          "output_type": "stream",
          "name": "stdout",
          "text": [
            "Nome completo: João Silva\n",
            "Nome completo: Maria Souza\n",
            "Nome completo: José Tavares\n"
          ]
        }
      ]
    },
    {
      "cell_type": "markdown",
      "source": [
        "###Problema 8\n",
        "Como cientista de dados em um time de futebol, você precisa implementar novas formas de coleta de dados sobre o desempenho de jogadores e do time como um todo. Sua primeira ação é criar uma forma de calcular a pontuação do time no campeonato nacional a partir dos dados de gols marcados e sofridos em cada jogo.\n",
        "\n",
        "Escreva uma função chamada `calcula_pontos` que recebe como parâmetros duas listas de números inteiros, representando os gols marcados e sofridos pelo time em cada partida do campeonato. A função deve retornar a pontuação do time e o aproveitamento em percentual, levando em consideração que a vitória vale 3 pontos, o empate vale 1 ponto e a derrota 0 pontos."
      ],
      "metadata": {
        "id": "yI9zLYR10Eg8"
      }
    },
    {
      "cell_type": "markdown",
      "source": [
        "Para teste, utilize as seguintes listas de gols marcados e sofridos:"
      ],
      "metadata": {
        "id": "gaoBptnb07to"
      }
    },
    {
      "cell_type": "code",
      "source": [
        "gols_marcados = [2, 1, 3, 1, 0]\n",
        "gols_sofridos = [1, 2, 2, 1, 3]\n",
        "\n",
        "\n",
        "#criando a função\n",
        "def calcula_pontos(marcados, sofridos):\n",
        "  #controladores de performace\n",
        "  vitoria = 0\n",
        "  derrota = 0\n",
        "  empate = 0\n",
        "  #compara os gols sofridos com os gols tomados para classificar em vitoria, derrota ou empate.\n",
        "  for i in range(len(marcados)):\n",
        "    if marcados[i] > sofridos[i]:\n",
        "     vitoria += 1\n",
        "    elif marcados[i] < sofridos[i]:\n",
        "      derrota += 1\n",
        "    else:\n",
        "      empate += 1\n",
        "  #calcula as estatisticas e a pontuação final\n",
        "    pontuacao = 3*vitoria+ 1*empate\n",
        "    aproveitamento = vitoria*100/(vitoria + empate + derrota)\n",
        "\n",
        "  return pontuacao, aproveitamento\n",
        "\n",
        "\n",
        "\n"
      ],
      "metadata": {
        "id": "bZtOnKMs08Mu"
      },
      "execution_count": null,
      "outputs": []
    },
    {
      "cell_type": "code",
      "source": [
        "pontos, percentual = calcula_pontos(gols_marcados, gols_sofridos)\n",
        "\n",
        "print(f'O total de pontos foi: {pontos}\\nO percentual de vitorias do time foi: {percentual}%')"
      ],
      "metadata": {
        "colab": {
          "base_uri": "https://localhost:8080/"
        },
        "id": "-OF836ZVd50q",
        "outputId": "c237b96d-fce7-468a-c3a9-91849d224074"
      },
      "execution_count": null,
      "outputs": [
        {
          "output_type": "stream",
          "name": "stdout",
          "text": [
            "O total de pontos foi: 7\n",
            "O percentual de vitorias do time foi: 40.0%\n"
          ]
        }
      ]
    },
    {
      "cell_type": "markdown",
      "source": [
        "Provável texto exibido:\n",
        "\n",
        "`\"A pontuação do time foi de [pontos] e seu aproveitamento foi de [aprov]%\"`\n"
      ],
      "metadata": {
        "id": "ncIacItp1AK1"
      }
    },
    {
      "cell_type": "markdown",
      "source": [
        "###Problema 9\n",
        "\n",
        "Você recebeu o desafio de criar um código que calcula os gastos de uma viagem para um das quatro cidades partindo de Recife, sendo elas: Salvador, Fortaleza, Natal e Aracaju.\n",
        "\n",
        "O custo da diária do hotel é de 150 reais em todas elas e o consumo de gasolina na viagem de carro é de 14 km/l, sendo que o valor da gasolina é de 5 reais o litro. O gastos com passeios e alimentação a se fazer em cada uma delas por dia seria de [200, 400, 250, 300], respectivamente.\n",
        "\n",
        "Sabendo que as distâncias entre Recife e cada uma das cidades é de aproximadamente [850, 800, 300, 550] km, crie três funções nas quais: a 1ª função calcule os gastos com hotel `(gasto_hotel)`, a 2ª calcule os gastos com a gasolina `(gasto_gasolina)` e a 3ª os gastos com passeio e alimentação `(gasto_passeio)`.\n",
        "\n",
        "Para testar, simule uma viagem de 3 dias para Salvador partindo de Recife. Considere a viagem de ida e volta de carro.\n",
        "\n",
        "\n",
        "\n",
        "```\n",
        "\"Com base nos gastos definidos, uma viagem de [dias] dias para [cidade] saindo de Recife custaria [gastos] reais\"\n",
        "```\n",
        "\n"
      ],
      "metadata": {
        "id": "haE8s8AD0Fro"
      }
    },
    {
      "cell_type": "code",
      "source": [
        "cidades = [\"Salvador\", \"Fortaleza\", \"Natal\", \"Aracaju\"]\n",
        "distancia = [850, 800, 300, 550]\n",
        "custo_passeio = [200, 400, 250, 300]\n",
        "\n",
        "\n",
        "#funcao custo da diária\n",
        "def gasto_hotel(dias):\n",
        "## quantidade de dias vezes 150\n",
        "  return (150*dias)\n",
        "\n",
        "#funcao custo do carro\n",
        "def gasto_gasolina(cidade):\n",
        "## duas vezes distancia divididos por 14 vezes o 5\n",
        "  return (2*distancia[cidade]*5/14)\n",
        "\n",
        "#funcao gasto do passeio\n",
        "def gasto_passeio(cidade, dias):\n",
        "## quantidade de dias vezes o custo do passeio\n",
        "  return(custo_passeio[cidade]*dias)\n",
        "\n",
        "#funcao que recebe os dados e chama as outras funções\n",
        "def passa_dados():\n",
        "  cidade = int(input('Insira o numero de qual cidade você deseja viajar?\\n1 - Salvador\\n2 - Fortaleza\\n3 - Natal\\n4 - Aracaju\\n')) - 1\n",
        "  dias = int(input('Insira a quantidade de dias de duração da viagem:\\n'))\n",
        "  return print(f'Com base nos gastos definidos, uma viagem de {dias} dias {cidades[cidade]} saindo e voltando para Recife custaria R$ {(gasto_hotel(dias) + gasto_gasolina(cidade) + gasto_passeio(cidade, dias)):.2f}.')"
      ],
      "metadata": {
        "id": "jQ7L2ignfLMN"
      },
      "execution_count": null,
      "outputs": []
    },
    {
      "cell_type": "code",
      "source": [
        "passa_dados()"
      ],
      "metadata": {
        "colab": {
          "base_uri": "https://localhost:8080/"
        },
        "id": "OTyPJOgRix8o",
        "outputId": "4e0fe143-e42f-4dff-9e1d-1941760ff7cd"
      },
      "execution_count": null,
      "outputs": [
        {
          "output_type": "stream",
          "name": "stdout",
          "text": [
            "Insira o numero de qual cidade você deseja viajar?\n",
            "1 - Salvador\n",
            "2 - Fortaleza\n",
            "3 - Natal\n",
            "4 - Aracaju\n",
            "1\n",
            "Insira a quantidade de dias de duração da viagem:\n",
            "3\n",
            "Com base nos gastos definidos, uma viagem de 3 dias Salvador saindo e voltando para Recife custaria R$ 1657.14\n"
          ]
        }
      ]
    },
    {
      "cell_type": "markdown",
      "source": [
        "###Problema 10\n",
        "Você iniciou um estágio em uma empresa que trabalha com processamento de linguagem natural (NLP). Sua líder requisitou que você criasse um trecho de código que recebe uma frase digitada pela pessoa usuária e filtre apenas as palavras com tamanho maior ou igual a 5, exibindo-as em uma lista. Essa demanda é voltada para a análise do padrão de comportamento de pessoas na escrita de palavras acima dessa quantidade de caracteres.\n",
        "\n",
        "`Dica: utilize as funções lambda e filter() para filtrar essas palavras. Lembrando que a função embutida filter() recebe uma função (no nosso exemplo uma função lambda) e filtra um iterável de acordo com a função. Para tratar a frase use replace() para trocar a ',' '.', '!' e '?' por espaço.`\n",
        "\n",
        "Use a frase `\"Aprender Python aqui na Alura é muito bom\"` para testar o código.\n",
        "\n"
      ],
      "metadata": {
        "id": "3x13kYqD1Sb8"
      }
    },
    {
      "cell_type": "code",
      "source": [
        "frase = \"Aprender Python aqui na Alura é muito bom! esse foi um trabalho muito díficil, mas finalmente consegui!!!!!\"\n",
        "lista_palavras = []\n",
        "\n"
      ],
      "metadata": {
        "id": "gwyiPcJSlJmx"
      },
      "execution_count": null,
      "outputs": []
    },
    {
      "cell_type": "code",
      "source": [
        "#definindo a função para filtrar as palavras e criando as váriaveis que vão armazenar os dados da função\n",
        "def filtra_palavras(frase):\n",
        "  espacos = [0]  #guarda a posição dos espaços para ver onde começa e termina cada palavra\n",
        "  lista_todas_palavras = [] #guarda todas as palavras da frase\n",
        "  lista_palavras = [] #guarda as palavras com mais de 5 letras\n",
        "\n",
        "#tira as pontuiações da frase\n",
        "  frase = frase.replace(\"!\", \"\")\n",
        "  frase = frase.replace(\".\", \"\")\n",
        "  frase = frase.replace(\"?\", \"\")\n",
        "  frase = frase.replace(\",\", \"\")\n",
        "\n",
        "#encontra os espaço da frase\n",
        "  for i in range(len(frase)):\n",
        "    if frase[i] == ' ':\n",
        "        espacos.append(i+1)\n",
        "\n",
        "#começa a armazenar as palavras pelos espaços\n",
        "  for i in range(len(espacos)):\n",
        "   if i != len(espacos)-1:\n",
        "    lista_todas_palavras.append(frase[espacos[i]: espacos[i+1]-1])  #precisa tirar espaço do final de cada palavra\n",
        "   else:\n",
        "     lista_todas_palavras.append(frase[espacos[i]: len(frase)]) #pega do ultimo valor de espaço até o final da frase\n",
        "\n",
        "#filtra as palavras com mais de 5 letras\n",
        "  for i in range(len(lista_todas_palavras)):\n",
        "    if len(lista_todas_palavras[i]) >= 5:\n",
        "      lista_palavras.append(lista_todas_palavras[i])\n",
        "\n",
        "\n",
        "\n",
        "  return frase, espacos,len(espacos), len(frase), lista_palavras, lista_todas_palavras"
      ],
      "metadata": {
        "id": "v92mPxiglycr"
      },
      "execution_count": null,
      "outputs": []
    },
    {
      "cell_type": "code",
      "source": [
        "filtra_palavras(frase)"
      ],
      "metadata": {
        "colab": {
          "base_uri": "https://localhost:8080/"
        },
        "id": "XSmkmaC9nhSF",
        "outputId": "ac2c0b66-9916-440f-8db5-fefed21ac517"
      },
      "execution_count": null,
      "outputs": [
        {
          "output_type": "execute_result",
          "data": {
            "text/plain": [
              "('Aprender Python aqui na Alura é muito bom esse foi um trabalho muito díficil mas finalmente consegui',\n",
              " [0, 9, 16, 21, 24, 30, 32, 38, 42, 47, 51, 54, 63, 69, 77, 81, 92],\n",
              " 17,\n",
              " 100,\n",
              " ['Aprender',\n",
              "  'Python',\n",
              "  'Alura',\n",
              "  'muito',\n",
              "  'trabalho',\n",
              "  'muito',\n",
              "  'díficil',\n",
              "  'finalmente',\n",
              "  'consegui'],\n",
              " ['Aprender',\n",
              "  'Python',\n",
              "  'aqui',\n",
              "  'na',\n",
              "  'Alura',\n",
              "  'é',\n",
              "  'muito',\n",
              "  'bom',\n",
              "  'esse',\n",
              "  'foi',\n",
              "  'um',\n",
              "  'trabalho',\n",
              "  'muito',\n",
              "  'díficil',\n",
              "  'mas',\n",
              "  'finalmente',\n",
              "  'consegui'])"
            ]
          },
          "metadata": {},
          "execution_count": 98
        }
      ]
    },
    {
      "cell_type": "markdown",
      "source": [
        "#Listas"
      ],
      "metadata": {
        "id": "bzv0Wa4tiq9s"
      }
    },
    {
      "cell_type": "markdown",
      "source": [
        "##Listas em Lista\n",
        "\n",
        "`[[a1, a2,...,an], [b1, b2,...,bn], ..., [n1, n2,...,nn]]`\n"
      ],
      "metadata": {
        "id": "7s-1TxAJZUVg"
      }
    },
    {
      "cell_type": "markdown",
      "source": [
        "###Situação 6\n",
        "Recebemos a demanda de transformar uma lista com o nome e as notas dos três trimestres de estudantes em uma lista simples com os nomes separados das notas e uma lista de listas com as três notas de cada estudante separadas umas das outras.\n",
        "\n",
        "Os dados recebidos correspondem a uma lista com os nomes e as respectivas notas de cada estudante. Vamos resolver esse desafio? Para facilitar o nosso entendimento do processo vamos trabalhar com uma turma fictícia de 5 estudantes."
      ],
      "metadata": {
        "id": "lBnj_HkYZiRL"
      }
    },
    {
      "cell_type": "code",
      "source": [
        "notas_turma = ['João', 8.0, 9.0, 10.0, 'Maria', 9.0, 7.0, 6.0, 'José', 3.4, 7.0, 7.0, 'Cláudia', 5.5, 6.6, 8.0, 'Ana', 6.0, 10.0, 9.5]\n",
        "\n",
        "nomes = []\n",
        "notas = []\n",
        "\n",
        "for i in range(len(notas_turma)):\n",
        "  if i%4 == 0:\n",
        "    nomes.append(notas_turma[i])\n",
        "  elif i%4 == 1:\n",
        "    notas.append([notas_turma[i], notas_turma[i+1], notas_turma[i+2]])\n",
        "\n",
        "\n"
      ],
      "metadata": {
        "id": "swI0swFHZlDt"
      },
      "execution_count": null,
      "outputs": []
    },
    {
      "cell_type": "code",
      "source": [
        "nomes, notas"
      ],
      "metadata": {
        "colab": {
          "base_uri": "https://localhost:8080/"
        },
        "id": "6PKncQU1bfRk",
        "outputId": "59b844c9-7a4b-4b1c-80fd-b13b16038ddc"
      },
      "execution_count": null,
      "outputs": [
        {
          "output_type": "execute_result",
          "data": {
            "text/plain": [
              "(['João', 'Maria', 'José', 'Cláudia', 'Ana'],\n",
              " [[8.0, 9.0, 10.0],\n",
              "  [9.0, 7.0, 6.0],\n",
              "  [3.4, 7.0, 7.0],\n",
              "  [5.5, 6.6, 8.0],\n",
              "  [6.0, 10.0, 9.5]])"
            ]
          },
          "metadata": {},
          "execution_count": 101
        }
      ]
    },
    {
      "cell_type": "markdown",
      "source": [
        "##Lista de tuplas\n",
        "As tuplas são estruturas de dados usadas para armazenar itens em uma única variável. São imutáveis, ou seja, não permitem adição, alteração ou remoção de seus elementos. Após ser construída, seus dados são fixos."
      ],
      "metadata": {
        "id": "WQ1KBIiecbQa"
      }
    },
    {
      "cell_type": "markdown",
      "source": [
        "###Situação 7\n",
        "\n",
        "Nesta nova demanda, precisamos gerar uma lista de tuplas com os nomes dos estudantes e o código ID de cada um para a plataforma de análise dos dados. A criação do código consiste em concatenar a primeira letra do nome do estudante a um número aleatório de 0 a 999. Os dados recebidos correspondem a uma lista dos nomes de cada estudante.\n",
        "\n",
        "Vamos resolver esse desafio?\n",
        "\n",
        "Para facilitar o nosso entendimento do processo vamos trabalhar com uma turma fictícia de 5 estudantes. Vamos rodar o código!"
      ],
      "metadata": {
        "id": "7k54P1yLcvJ9"
      }
    },
    {
      "cell_type": "code",
      "source": [
        "estudantes = [\"João\", \"Maria\", \"José\", \"Cláudia\", \"Ana\"]\n",
        "estudantes\n"
      ],
      "metadata": {
        "colab": {
          "base_uri": "https://localhost:8080/"
        },
        "id": "F05-FfhEcrkh",
        "outputId": "9e37f544-30e8-4b81-ca48-a84797a07aa6"
      },
      "execution_count": null,
      "outputs": [
        {
          "output_type": "execute_result",
          "data": {
            "text/plain": [
              "['João', 'Maria', 'José', 'Cláudia', 'Ana']"
            ]
          },
          "metadata": {},
          "execution_count": 102
        }
      ]
    },
    {
      "cell_type": "code",
      "source": [
        "from random import choice"
      ],
      "metadata": {
        "id": "qtOGjaPAc2NA"
      },
      "execution_count": null,
      "outputs": []
    },
    {
      "cell_type": "code",
      "source": [
        "iD_name = []\n",
        "\n",
        "for i in range(len(estudantes)):\n",
        "  id = estudantes[i][0] + str(choice(range(999)))\n",
        "  nome = estudantes[i]\n",
        "  iD_name.append((nome, id))\n"
      ],
      "metadata": {
        "id": "0GH7TtqFdHGg"
      },
      "execution_count": null,
      "outputs": []
    },
    {
      "cell_type": "code",
      "source": [
        "iD_name"
      ],
      "metadata": {
        "colab": {
          "base_uri": "https://localhost:8080/"
        },
        "id": "aLrC6Feyeeph",
        "outputId": "fe1ad269-8a9e-4e62-f384-dc5ec54b677a"
      },
      "execution_count": null,
      "outputs": [
        {
          "output_type": "execute_result",
          "data": {
            "text/plain": [
              "[('João', 'J660'),\n",
              " ('Maria', 'M656'),\n",
              " ('José', 'J569'),\n",
              " ('Cláudia', 'C167'),\n",
              " ('Ana', 'A471')]"
            ]
          },
          "metadata": {},
          "execution_count": 113
        }
      ]
    },
    {
      "cell_type": "markdown",
      "source": [
        "##List Comprehension\n",
        "\n",
        "A List comprehension é uma forma simples e concisa de criar listas, sendo que essas listas seguirão alguns padrões, via condicionais, laços e outras expressões.\n",
        "\n",
        "`[exressão for item in lista]`\n"
      ],
      "metadata": {
        "id": "dVd_tBx_izbo"
      }
    },
    {
      "cell_type": "markdown",
      "source": [
        "###Situação 8\n",
        "Recebemos a demanda de criar uma lista com as médias dos estudantes da lista de listas que criamos na Situação 6. Lembrando que cada lista da lista de listas possui as três notas de cada estudante.\n",
        "\n",
        "Vamos resolver esse desafio?"
      ],
      "metadata": {
        "id": "GLFUauLHjEVA"
      }
    },
    {
      "cell_type": "code",
      "source": [
        "media = [round(sum(nota)/len(nota), 1) for nota in notas] # para cada nota(lista de notas) em notas (lista com todas as listas de notas) faça!\n",
        "media"
      ],
      "metadata": {
        "colab": {
          "base_uri": "https://localhost:8080/"
        },
        "id": "LTS2jdotjB2S",
        "outputId": "5ff42959-f583-4226-e837-3b65fce45cb3"
      },
      "execution_count": null,
      "outputs": [
        {
          "output_type": "execute_result",
          "data": {
            "text/plain": [
              "[9.0, 7.3, 5.8, 6.7, 8.5]"
            ]
          },
          "metadata": {},
          "execution_count": 114
        }
      ]
    },
    {
      "cell_type": "markdown",
      "source": [
        "###Situação 9\n",
        "Agora, precisamos utilizar as médias calculadas no exemplo anterior, pareando com o nome dos estudantes. Isto será necessário para gerar uma lista que selecione aqueles estudantes que possuam uma média final maior ou igual a 8 para concorrer a uma bolsa para o próximo ano letivo.\n",
        "\n",
        "Os dados recebidos correspondem a uma lista de tuplas com os nomes e códigos dos estudantes e a lista de médias calculadas logo acima.\n",
        "\n",
        "Vamos resolver esse desafio?\n",
        "\n",
        "Para facilitar o nosso entendimento do processo vamos trabalhar com uma turma fictícia de 5 estudantes.\n",
        "\n",
        "`Dica: Utilize o formato: [expr for item in lista if cond]`"
      ],
      "metadata": {
        "id": "AzC84erXkMyc"
      }
    },
    {
      "cell_type": "code",
      "source": [
        "nomes = [nome[0] for nome in iD_name]\n",
        "nomes"
      ],
      "metadata": {
        "colab": {
          "base_uri": "https://localhost:8080/"
        },
        "id": "_3XekGZjkKw7",
        "outputId": "3d759f16-afe7-4527-b34e-3434e25e685b"
      },
      "execution_count": null,
      "outputs": [
        {
          "output_type": "execute_result",
          "data": {
            "text/plain": [
              "['João', 'Maria', 'José', 'Cláudia', 'Ana']"
            ]
          },
          "metadata": {},
          "execution_count": 116
        }
      ]
    },
    {
      "cell_type": "code",
      "source": [
        "estudantes = list(zip(nomes, media))  ##zip cria tuplas\n",
        "estudantes"
      ],
      "metadata": {
        "colab": {
          "base_uri": "https://localhost:8080/"
        },
        "id": "6nB9iv-HnWSi",
        "outputId": "295da253-d96b-40b4-dc4c-b2c7db2994d2"
      },
      "execution_count": null,
      "outputs": [
        {
          "output_type": "execute_result",
          "data": {
            "text/plain": [
              "[('João', 9.0), ('Maria', 7.3), ('José', 5.8), ('Cláudia', 6.7), ('Ana', 8.5)]"
            ]
          },
          "metadata": {},
          "execution_count": 117
        }
      ]
    },
    {
      "cell_type": "code",
      "source": [
        "candidatos = [estudante[0] for estudante in estudantes if estudante[1] >= 8 ]\n",
        "candidatos"
      ],
      "metadata": {
        "colab": {
          "base_uri": "https://localhost:8080/"
        },
        "id": "lr94d-toncNL",
        "outputId": "3c2e2204-6e65-4573-bbfe-bdb29c061502"
      },
      "execution_count": null,
      "outputs": [
        {
          "output_type": "execute_result",
          "data": {
            "text/plain": [
              "['João', 'Ana']"
            ]
          },
          "metadata": {},
          "execution_count": 121
        }
      ]
    },
    {
      "cell_type": "markdown",
      "source": [
        "####zip\n",
        "Segue um exemplo de como conseguir separar um zip"
      ],
      "metadata": {
        "id": "T2VUNY2JpK4V"
      }
    },
    {
      "cell_type": "code",
      "source": [
        "\n",
        "tupla_iteravel = [('J392', 'João'), ('M890', 'Maria'), ('J681', 'José'), ('C325', 'Claúdia'), ('A49', 'Ana')]\n",
        "ids, nomes  = zip(*tupla_iteravel)\n",
        "\n",
        "ids = list(ids)\n",
        "nomes = list(nomes)\n",
        "\n",
        "print(\"IDs = \", ids)\n",
        "print(\"IDs = \", ids)"
      ],
      "metadata": {
        "colab": {
          "base_uri": "https://localhost:8080/"
        },
        "id": "UNI3pe7SpIjW",
        "outputId": "c8f6ff9f-0b24-4234-a704-90562995437e"
      },
      "execution_count": null,
      "outputs": [
        {
          "output_type": "stream",
          "name": "stdout",
          "text": [
            "IDs =  ['J392', 'M890', 'J681', 'C325', 'A49']\n",
            "Nomes =  ['João', 'Maria', 'José', 'Claúdia', 'Ana']\n"
          ]
        }
      ]
    },
    {
      "cell_type": "code",
      "source": [
        "idstest = []\n",
        "nomestest = []\n",
        "for i in range(len(tupla_iteravel)):\n",
        "  idstest.append(tupla_iteravel[i][0])\n",
        "  nomestest.append(tupla_iteravel[i][1])\n",
        "  print(\"IDs = \", tupla_iteravel[i][0])\n",
        "  print(\"nome = \", tupla_iteravel[i][1])\n",
        "\n",
        "idstest, nomestest"
      ],
      "metadata": {
        "colab": {
          "base_uri": "https://localhost:8080/"
        },
        "id": "AlW4iQPhpfWz",
        "outputId": "e3f585a3-b57f-4bff-ae35-03546efaab2e"
      },
      "execution_count": null,
      "outputs": [
        {
          "output_type": "stream",
          "name": "stdout",
          "text": [
            "IDs =  J392\n",
            "nome =  João\n",
            "IDs =  M890\n",
            "nome =  Maria\n",
            "IDs =  J681\n",
            "nome =  José\n",
            "IDs =  C325\n",
            "nome =  Claúdia\n",
            "IDs =  A49\n",
            "nome =  Ana\n"
          ]
        },
        {
          "output_type": "execute_result",
          "data": {
            "text/plain": [
              "(['J392', 'M890', 'J681', 'C325', 'A49'],\n",
              " ['João', 'Maria', 'José', 'Claúdia', 'Ana'])"
            ]
          },
          "metadata": {},
          "execution_count": 126
        }
      ]
    },
    {
      "cell_type": "markdown",
      "source": [
        "###Situação 10\n",
        "Recebemos duas demandas a respeito desse projeto com as notas dos estudantes:\n",
        "\n",
        "Criar uma lista da situação dos estudantes em que caso sua média seja maior ou igual a 6 receberá o valor \"Aprovado\" e caso contrário receberá o valor \"Reprovado\".\n",
        "\n",
        "Gerar uma lista de listas com:\n",
        "\n",
        "*  Lista de tuplas com o nome dos estudantes e seus códigos.\n",
        "\n",
        "*  Lista de listas com as notas de cada estudante.\n",
        "\n",
        "*  Lista com as médias de cada estudante.\n",
        "\n",
        "*  Lista da situação dos estudantes de acordo com as médias.\n",
        "\n",
        "Os dados que utilizaremos são os mesmos que geramos nas situações anteriores (nomes, notas, medias).\n",
        "\n",
        "Vamos resolver esse desafio?\n",
        "\n",
        "`Dica: Para a lista das situações, utilize o formato: [resultado_if if cond else resultado_else for item in lista]`"
      ],
      "metadata": {
        "id": "f6WcGWH6qkPL"
      }
    },
    {
      "cell_type": "code",
      "source": [
        "nomes = [('João', 'J720'), ('Maria', 'M205'), ('José', 'J371'), ('Cláudia', 'C546'), ('Ana', 'A347')]\n",
        "notas = [[8.0, 9.0, 10.0], [9.0, 7.0, 6.0], [3.4, 7.0, 7.0], [5.5, 6.6, 8.0], [6.0, 10.0, 9.5]]\n",
        "medias = [9.0, 7.3, 5.8, 6.7, 8.5]\n"
      ],
      "metadata": {
        "id": "uuGomYBBqjx1"
      },
      "execution_count": null,
      "outputs": []
    },
    {
      "cell_type": "code",
      "source": [
        "situacao = ['Aprovado' if media >= 6 else 'Reprovado' for media in medias]\n",
        "situacao"
      ],
      "metadata": {
        "colab": {
          "base_uri": "https://localhost:8080/"
        },
        "id": "g7W4_uqWq75m",
        "outputId": "cb3a471f-0e12-4d2f-8e25-fc916bdd59fc"
      },
      "execution_count": null,
      "outputs": [
        {
          "output_type": "execute_result",
          "data": {
            "text/plain": [
              "['Aprovado', 'Aprovado', 'Reprovado', 'Aprovado', 'Aprovado']"
            ]
          },
          "metadata": {},
          "execution_count": 131
        }
      ]
    },
    {
      "cell_type": "code",
      "source": [
        "cadastro = [x for x in [nomes, notas, medias, situacao]]\n",
        "cadastro"
      ],
      "metadata": {
        "colab": {
          "base_uri": "https://localhost:8080/"
        },
        "id": "87RQuB5HsDnC",
        "outputId": "99c314c2-faf4-4c0f-a383-153d196933af"
      },
      "execution_count": null,
      "outputs": [
        {
          "output_type": "execute_result",
          "data": {
            "text/plain": [
              "[[('João', 'J720'),\n",
              "  ('Maria', 'M205'),\n",
              "  ('José', 'J371'),\n",
              "  ('Cláudia', 'C546'),\n",
              "  ('Ana', 'A347')],\n",
              " [[8.0, 9.0, 10.0],\n",
              "  [9.0, 7.0, 6.0],\n",
              "  [3.4, 7.0, 7.0],\n",
              "  [5.5, 6.6, 8.0],\n",
              "  [6.0, 10.0, 9.5]],\n",
              " [9.0, 7.3, 5.8, 6.7, 8.5],\n",
              " ['Aprovado', 'Aprovado', 'Reprovado', 'Aprovado', 'Aprovado']]"
            ]
          },
          "metadata": {},
          "execution_count": 133
        }
      ]
    },
    {
      "cell_type": "code",
      "source": [
        "lista_completa = [nomes, notas, medias, situacao]\n",
        "lista_completa"
      ],
      "metadata": {
        "colab": {
          "base_uri": "https://localhost:8080/"
        },
        "id": "McjiNMfCsig6",
        "outputId": "b5208b0d-cdc2-47f6-bcd2-dd9236d737a5"
      },
      "execution_count": null,
      "outputs": [
        {
          "output_type": "execute_result",
          "data": {
            "text/plain": [
              "[[('João', 'J720'),\n",
              "  ('Maria', 'M205'),\n",
              "  ('José', 'J371'),\n",
              "  ('Cláudia', 'C546'),\n",
              "  ('Ana', 'A347')],\n",
              " [[8.0, 9.0, 10.0],\n",
              "  [9.0, 7.0, 6.0],\n",
              "  [3.4, 7.0, 7.0],\n",
              "  [5.5, 6.6, 8.0],\n",
              "  [6.0, 10.0, 9.5]],\n",
              " [9.0, 7.3, 5.8, 6.7, 8.5],\n",
              " ['Aprovado', 'Aprovado', 'Reprovado', 'Aprovado', 'Aprovado']]"
            ]
          },
          "metadata": {},
          "execution_count": 134
        }
      ]
    },
    {
      "cell_type": "markdown",
      "source": [
        "##Dict Comprehension\n",
        "É uma forma mais simples de criar e modificar dicionários.\n",
        "\n",
        "`{chave: valor for item in lista}`"
      ],
      "metadata": {
        "id": "mFWZId_D9HlI"
      }
    },
    {
      "cell_type": "markdown",
      "source": [
        "###Situação 11\n",
        "Agora, a nossa demanda consiste em gerar um dicionário a partir da lista de listas que criamos na Situação 10 para passá-la à pessoa responsável por construir as tabelas, possibilitando a análise dos dados.\n",
        "\n",
        "As chaves do nosso dicionário serão as colunas identificando o tipo de dado.\n",
        "\n",
        "Os valores serão as listas com os dados correspondentes àquela chave.\n",
        "\n",
        "Isso é muito comum na ciência de dados, inclusive quando trabalhamos com estruturas como dataframes, uma forma de apresentação do dado com tabelas. Aqui, não aprenderemos todo esse ferramental, mas entenderemos um pouco de como funciona a construção desse tipo de estrutura.\n",
        "\n",
        "Vamos resolver esse desafio?\n",
        "\n",
        "Para facilitar o nosso entendimento do processo, vamos trabalhar com uma turma fictícia de 5 estudantes.\n",
        "\n",
        "Dica: Utilize o formato: `{chave: valor for item in lista}`\n",
        "\n",
        "chave é a chave do dicionario, o que vai ficar separar as caixinhas\n",
        "valor é o que vai ser colocado na chave\n",
        "item é o iteravel\n",
        "lista é o tamanho do que vai ser iterado\n",
        "\n",
        "\n",
        "Vamos começar passando a nossa lista de listas, com uma lista de tuplas `(nome da pessoa estudante e código)`, lista de listas `(notas dos trimestres)`, lista de médias e lista de situação."
      ],
      "metadata": {
        "id": "sLmQxZt8-GDH"
      }
    },
    {
      "cell_type": "code",
      "source": [
        "lista_completa = [[('João', 'J720'), ('Maria', 'M205'), ('José', 'J371'), ('Cláudia', 'C546'), ('Ana', 'A347')],\n",
        "                  [[8.0, 9.0, 10.0], [9.0, 7.0, 6.0], [3.4, 7.0, 7.0], [5.5, 6.6, 8.0], [6.0, 10.0, 9.5]],\n",
        "                  [9.0, 7.3, 5.8, 6.7, 8.5],\n",
        "                  ['Aprovado', 'Aprovado', 'Reprovado', 'Aprovado', 'Aprovado']]"
      ],
      "metadata": {
        "id": "giESSQgu-Aah"
      },
      "execution_count": null,
      "outputs": []
    },
    {
      "cell_type": "code",
      "source": [
        "coluna = [\"Notas\", \"Media Final\", \"Situação\"]\n",
        "\n",
        "\n",
        "cadastro = {coluna[i]: lista_completa[i+1] for i in range(len(coluna))}\n",
        "'''\n",
        "Coluna[i] vai receber lista_completa[i+1] para cada elemento de da lista coluna\n",
        "'''\n",
        "cadastro"
      ],
      "metadata": {
        "colab": {
          "base_uri": "https://localhost:8080/"
        },
        "id": "iH4CwtHl-TQc",
        "outputId": "dfd6dd70-5789-4625-a650-8136b9828a80"
      },
      "execution_count": null,
      "outputs": [
        {
          "output_type": "execute_result",
          "data": {
            "text/plain": [
              "{'Notas': [[8.0, 9.0, 10.0],\n",
              "  [9.0, 7.0, 6.0],\n",
              "  [3.4, 7.0, 7.0],\n",
              "  [5.5, 6.6, 8.0],\n",
              "  [6.0, 10.0, 9.5]],\n",
              " 'Media Final': [9.0, 7.3, 5.8, 6.7, 8.5],\n",
              " 'Situação': ['Aprovado', 'Aprovado', 'Reprovado', 'Aprovado', 'Aprovado']}"
            ]
          },
          "metadata": {},
          "execution_count": 9
        }
      ]
    },
    {
      "cell_type": "code",
      "source": [
        "cadastro['Estudante'] = [nome[0] for nome in lista_completa[0]]\n",
        "cadastro"
      ],
      "metadata": {
        "colab": {
          "base_uri": "https://localhost:8080/"
        },
        "id": "nmlJWczCC1_E",
        "outputId": "6c432967-487e-4feb-a132-b4eaabd16237"
      },
      "execution_count": null,
      "outputs": [
        {
          "output_type": "execute_result",
          "data": {
            "text/plain": [
              "{'Notas': [[8.0, 9.0, 10.0],\n",
              "  [9.0, 7.0, 6.0],\n",
              "  [3.4, 7.0, 7.0],\n",
              "  [5.5, 6.6, 8.0],\n",
              "  [6.0, 10.0, 9.5]],\n",
              " 'Media Final': [9.0, 7.3, 5.8, 6.7, 8.5],\n",
              " 'Situação': ['Aprovado', 'Aprovado', 'Reprovado', 'Aprovado', 'Aprovado'],\n",
              " 'Estudante': ['João', 'Maria', 'José', 'Cláudia', 'Ana']}"
            ]
          },
          "metadata": {},
          "execution_count": 11
        }
      ]
    },
    {
      "cell_type": "markdown",
      "source": [
        "####Situação extra\n",
        "Recebemos uma demanda da instituição de ensino do nosso projeto. Foi repassado para nós uma lista de 20 estudantes e suas respectivas médias finais. Aqui, nós precisamos selecionar estudantes que tenham média final maior ou igual a 9.0. Esses(as) estudantes serão premiados(as) com uma bolsa de estudos para o próximo ano letivo.\n",
        "\n",
        "Para filtrar os dados, temos que gerar um dicionário cujas chaves são os nomes e os valores são as médias dos(as) estudantes selecionados(as). Estes são os dados recebidos:"
      ],
      "metadata": {
        "id": "1BO9nkPBE6Z3"
      }
    },
    {
      "cell_type": "code",
      "source": [
        "nomes_estudantes = [ \"Enrico Monteiro\", \"Luna Pereira\", \"Anthony Silveira\", \"Letícia Fernandes\",\n",
        "                    \"João Vitor Nascimento\", \"Maysa Caldeira\", \"Diana Carvalho\", \"Mariane da Rosa\",\n",
        "                    \"Camila Fernandes\", \"Levi Alves\", \"Nicolas da Rocha\", \"Amanda Novaes\",\n",
        "                    \"Laís Moraes\", \"Letícia Oliveira\", \"Lucca Novaes\", \"Lara Cunha\",\n",
        "                    \"Beatriz Martins\", \"João Vitor Azevedo\", \"Stephany Rosa\", \"Gustavo Henrique Lima\" ]\n",
        "\n",
        "medias_estudantes = [5.4, 4.1, 9.1, 5.3, 6.9, 3.1, 10.0, 5.0, 8.2, 5.5,\n",
        "                    8.1, 7.4, 5.0, 3.7, 8.1, 6.2, 6.1, 5.6, 6.7, 8.2]"
      ],
      "metadata": {
        "id": "TDLpzLqkFAw6"
      },
      "execution_count": null,
      "outputs": []
    },
    {
      "cell_type": "markdown",
      "source": [
        "`{expressao_chave: expressao_valor for item in iteravel if condicao}`"
      ],
      "metadata": {
        "id": "_DfpC38AFwkT"
      }
    },
    {
      "cell_type": "code",
      "source": [
        "bolsistas = {nome: media\n",
        "             for nome, media in zip(nomes_estudantes, medias_estudantes)\n",
        "             if media >= 9.0}\n",
        "bolsistas"
      ],
      "metadata": {
        "colab": {
          "base_uri": "https://localhost:8080/"
        },
        "id": "azEu4bHjFC9K",
        "outputId": "49ae4dcf-6431-4ec5-f1af-ec4f307deb26"
      },
      "execution_count": null,
      "outputs": [
        {
          "output_type": "execute_result",
          "data": {
            "text/plain": [
              "{'Anthony Silveira': 9.1, 'Diana Carvalho': 10.0}"
            ]
          },
          "metadata": {},
          "execution_count": 22
        }
      ]
    },
    {
      "cell_type": "markdown",
      "source": [
        "###Desafios 3\n"
      ],
      "metadata": {
        "id": "EYPr3CliHU0N"
      }
    },
    {
      "cell_type": "markdown",
      "source": [
        "####Problema 1\n",
        "Crie um código para imprimir a soma dos elementos de cada uma das listas contidas na seguinte lista:"
      ],
      "metadata": {
        "id": "aoFRQsnpHXSW"
      }
    },
    {
      "cell_type": "code",
      "source": [
        "lista_de_listas = [[4,6,5,9], [1,0,7,2], [3,4,1,8]]\n",
        "\n",
        "def imprime_soma(lista):\n",
        "  for i in range(len(lista)):\n",
        "    print(sum(lista[i]))\n"
      ],
      "metadata": {
        "id": "ahqfuRNIHudJ"
      },
      "execution_count": null,
      "outputs": []
    },
    {
      "cell_type": "code",
      "source": [
        "imprime_soma(lista_de_listas)"
      ],
      "metadata": {
        "colab": {
          "base_uri": "https://localhost:8080/"
        },
        "id": "QKqKwCnAICP1",
        "outputId": "61e3f874-4d4d-4d5e-dcf3-89f565007cf5"
      },
      "execution_count": null,
      "outputs": [
        {
          "output_type": "stream",
          "name": "stdout",
          "text": [
            "24\n",
            "10\n",
            "16\n"
          ]
        }
      ]
    },
    {
      "cell_type": "markdown",
      "source": [
        "Resposta"
      ],
      "metadata": {
        "id": "79N4-dbBNrDX"
      }
    },
    {
      "cell_type": "code",
      "source": [
        "for lista in lista_de_listas:\n",
        "    print(sum(lista))"
      ],
      "metadata": {
        "id": "-oZ1kk2QNhcS"
      },
      "execution_count": null,
      "outputs": []
    },
    {
      "cell_type": "markdown",
      "source": [
        "####Problema 2\n",
        "Crie um código para gerar uma lista que armazena o terceiro elemento de cada tupla contida na seguinte lista de tuplas:"
      ],
      "metadata": {
        "id": "8svf-3S_HaWm"
      }
    },
    {
      "cell_type": "code",
      "source": [
        "lista_de_tuplas = [('Pedro', 1.74, 81), ('Júlia', 1.65, 67), ('Otávio', 1.81, 83)]\n",
        "\n",
        "lista_3 = [elemento[1] for elemento in lista_de_tuplas]\n",
        "lista_3"
      ],
      "metadata": {
        "colab": {
          "base_uri": "https://localhost:8080/"
        },
        "id": "V86ar3r3IMtO",
        "outputId": "f43a7617-25e1-4f5b-a62a-8c7120b63a4b"
      },
      "execution_count": null,
      "outputs": [
        {
          "output_type": "execute_result",
          "data": {
            "text/plain": [
              "[1.74, 1.65, 1.81]"
            ]
          },
          "metadata": {},
          "execution_count": 28
        }
      ]
    },
    {
      "cell_type": "markdown",
      "source": [
        "Resposta"
      ],
      "metadata": {
        "id": "5efNsLeYNten"
      }
    },
    {
      "cell_type": "code",
      "source": [
        "lista = []\n",
        "for tupla in lista_de_tuplas:\n",
        "    lista.append(tupla[2])\n",
        "print(lista)"
      ],
      "metadata": {
        "id": "3dzwhNzBOURi"
      },
      "execution_count": null,
      "outputs": []
    },
    {
      "cell_type": "markdown",
      "source": [
        "####Problema 3\n",
        "A partir da lista: `lista = ['Pedro', 'Júlia', 'Otávio', 'Eduardo']`, crie um código para gerar uma lista de tuplas em que cada tupla tenha o primeiro elemento como a posição do nome na lista original e o segundo elemento sendo o próprio nome."
      ],
      "metadata": {
        "id": "WpeFm-7wHbls"
      }
    },
    {
      "cell_type": "code",
      "source": [
        "lista = ['Pedro', 'Júlia', 'Otávio', 'Eduardo']\n",
        "posicao =[]\n",
        "\n",
        "for i in range(len(lista)):\n",
        "  posicao.append(i+1)\n",
        "\n",
        "lista_posicao = list(zip(posicao, lista))\n",
        "lista_posicao\n"
      ],
      "metadata": {
        "colab": {
          "base_uri": "https://localhost:8080/"
        },
        "id": "3FsbPgNgI7zl",
        "outputId": "9d2d45ea-24bb-4d3f-97f2-841602dbf567"
      },
      "execution_count": null,
      "outputs": [
        {
          "output_type": "execute_result",
          "data": {
            "text/plain": [
              "[(1, 'Pedro'), (2, 'Júlia'), (3, 'Otávio'), (4, 'Eduardo')]"
            ]
          },
          "metadata": {},
          "execution_count": 40
        }
      ]
    },
    {
      "cell_type": "markdown",
      "source": [
        "Resposta"
      ],
      "metadata": {
        "id": "5nls5R-0Nu8z"
      }
    },
    {
      "cell_type": "code",
      "source": [
        "lista_de_tuplas = []\n",
        "for i in range(len(lista)):\n",
        "    lista_de_tuplas.append((i, lista[i]))\n",
        "print(lista_de_tuplas)"
      ],
      "metadata": {
        "id": "19CavWFWOS35"
      },
      "execution_count": null,
      "outputs": []
    },
    {
      "cell_type": "markdown",
      "source": [
        "####Problema 4\n",
        "Crie uma lista usando o list comprehension que armazena somente o valor numérico de cada tupla caso o primeiro elemento seja 'Apartamento', a partir da seguinte lista de tuplas:"
      ],
      "metadata": {
        "id": "cejb2CmbHcck"
      }
    },
    {
      "cell_type": "code",
      "source": [
        "aluguel = [('Apartamento', 1700), ('Apartamento', 1400), ('Casa', 2150), ('Apartamento', 1900), ('Casa', 1100)]\n",
        "\n",
        "apartamentos_aluguel = [item[1] for item in aluguel if item[0] == 'Apartamento']\n",
        "apartamentos_aluguel\n"
      ],
      "metadata": {
        "colab": {
          "base_uri": "https://localhost:8080/"
        },
        "id": "eRGPPfGXLHQu",
        "outputId": "42169072-b3ec-4d1a-8e78-e305ea72a5bd"
      },
      "execution_count": null,
      "outputs": [
        {
          "output_type": "execute_result",
          "data": {
            "text/plain": [
              "[1700, 1400, 1900]"
            ]
          },
          "metadata": {},
          "execution_count": 42
        }
      ]
    },
    {
      "cell_type": "markdown",
      "source": [
        "Resposta"
      ],
      "metadata": {
        "id": "qr5vY3t_Nvt0"
      }
    },
    {
      "cell_type": "code",
      "source": [
        "lista = [tupla[1] for tupla in aluguel if tupla[0]== 'Apartamento']\n",
        "print(lista)"
      ],
      "metadata": {
        "id": "MniSLuIkORHK"
      },
      "execution_count": null,
      "outputs": []
    },
    {
      "cell_type": "markdown",
      "source": [
        "####Problema 5\n",
        "Crie um dicionário usando o dict comprehension em que as chaves estão na lista `meses = ['Jan', 'Fev', 'Mar', 'Abr', 'Mai', 'Jun', 'Jul', 'Ago', 'Set', 'Out', 'Nov', 'Dez']` e os valores estão na lista `despesa = [860, 490, 1010, 780, 900, 630, 590, 770, 620, 560, 840, 360]`."
      ],
      "metadata": {
        "id": "naZBU6loHc23"
      }
    },
    {
      "cell_type": "code",
      "source": [
        "meses = ['Jan', 'Fev', 'Mar', 'Abr', 'Mai', 'Jun', 'Jul', 'Ago', 'Set', 'Out', 'Nov', 'Dez']\n",
        "despesa = [860, 490, 1010, 780, 900, 630, 590, 770, 620, 560, 840, 360]\n",
        "\n",
        "meses_despesas = {meses[i]: despesa[i] for i in range(len(meses))} ##{\"chave[i]\": \"itens[i]\" for \"i\" in \"tamanho\"}\n",
        "meses_despesas"
      ],
      "metadata": {
        "colab": {
          "base_uri": "https://localhost:8080/"
        },
        "id": "8AnWpbOxMGUM",
        "outputId": "0e1ef83f-152b-40af-f07c-0a71dc56241d"
      },
      "execution_count": null,
      "outputs": [
        {
          "output_type": "execute_result",
          "data": {
            "text/plain": [
              "{'Jan': 860,\n",
              " 'Fev': 490,\n",
              " 'Mar': 1010,\n",
              " 'Abr': 780,\n",
              " 'Mai': 900,\n",
              " 'Jun': 630,\n",
              " 'Jul': 590,\n",
              " 'Ago': 770,\n",
              " 'Set': 620,\n",
              " 'Out': 560,\n",
              " 'Nov': 840,\n",
              " 'Dez': 360}"
            ]
          },
          "metadata": {},
          "execution_count": 44
        }
      ]
    },
    {
      "cell_type": "markdown",
      "source": [
        "Resposta"
      ],
      "metadata": {
        "id": "UOsI6VTnNwYZ"
      }
    },
    {
      "cell_type": "code",
      "source": [
        "dicionario = {meses[i]: despesa[i] for i in range(len(meses))}\n",
        "print(dicionario)"
      ],
      "metadata": {
        "id": "uT32zn3GOOr7"
      },
      "execution_count": null,
      "outputs": []
    },
    {
      "cell_type": "markdown",
      "source": [
        "####Problema 6\n",
        "Uma loja possui um banco de dados com a informação de venda de cada representante e de cada ano e precisa filtrar somente os dados do ano 2022 com venda maior do que 6000. A loja forneceu uma amostra contendo apenas as colunas com os anos e os valores de venda para que você ajude a realizar a filtragem dos dados a partir de um código:"
      ],
      "metadata": {
        "id": "Wsz2KLH6Hdai"
      }
    },
    {
      "cell_type": "code",
      "source": [
        "vendas = [('2023', 4093), ('2021', 4320), ('2021', 5959), ('2022', 8883), ('2023', 9859), ('2022', 5141), ('2022', 7688), ('2022', 9544), ('2023', 4794), ('2021', 7178), ('2022', 3030), ('2021', 7471), ('2022', 4226), ('2022', 8190), ('2021', 9680), ('2022', 5616)]"
      ],
      "metadata": {
        "id": "9rRNA4f_MvEb"
      },
      "execution_count": null,
      "outputs": []
    },
    {
      "cell_type": "code",
      "source": [
        "filtrados = [vendas[i][1] for i in range(len(vendas)) if (vendas[i][0] == '2022' and vendas[i][1] >= 6000)]\n",
        "filtrados"
      ],
      "metadata": {
        "colab": {
          "base_uri": "https://localhost:8080/"
        },
        "id": "87TQy4EZMxCe",
        "outputId": "269c5d66-40f9-4e48-f5a8-7275fe40926a"
      },
      "execution_count": null,
      "outputs": [
        {
          "output_type": "execute_result",
          "data": {
            "text/plain": [
              "[8883, 7688, 9544, 8190]"
            ]
          },
          "metadata": {},
          "execution_count": 56
        }
      ]
    },
    {
      "cell_type": "markdown",
      "source": [
        "Resposta"
      ],
      "metadata": {
        "id": "a4YpakZgNxEa"
      }
    },
    {
      "cell_type": "code",
      "source": [
        "filtro = [tupla[1] for tupla in vendas if tupla[0] == '2022' and tupla[1] > 6000]\n",
        "print(filtro)"
      ],
      "metadata": {
        "id": "3LfgGw5RONMO"
      },
      "execution_count": null,
      "outputs": []
    },
    {
      "cell_type": "markdown",
      "source": [
        "####Problema 7\n",
        "\n",
        "Uma clínica analisa dados de pacientes e armazena o valor numérico da glicose em um banco de dados e gostaria de rotular os dados da seguinte maneira:\n",
        "\n",
        "*  Glicose igual ou inferior a 70: 'Hipoglicemia'\n",
        "*  Glicose entre 70 a 99: 'Normal'\n",
        "*  Glicose entre 100 e 125: 'Alterada'\n",
        "*  Glicose superior a 125: 'Diabetes'\n",
        "\n",
        "A clínica disponibilizou parte dos valores e sua tarefa é criar uma lista de tuplas usando list comprehension contendo o rótulo e o valor da glicemia em cada tupla.\n",
        "\n",
        "\n",
        "`[resultado_if if cond else resultado_else for item in lista]`"
      ],
      "metadata": {
        "id": "l3E7xUyXHeAt"
      }
    },
    {
      "cell_type": "code",
      "source": [
        "glicemia = [129, 82, 60, 97, 101, 65, 62, 167, 87, 53, 58, 92, 66, 120, 109, 62, 86, 96, 103, 88, 155, 52, 89, 73]\n",
        "resultado = []\n",
        "\n",
        "def verifica(lista):\n",
        "  for i in range(len(lista)):\n",
        "    if lista[i] <= 70:\n",
        "      resultado.append('Hipoglicemia')\n",
        "    elif lista[i] <= 99:\n",
        "      resultado.append('Normal')\n",
        "    elif lista[i] <= 125:\n",
        "      resultado.append('Alterada')\n",
        "    else:\n",
        "      resultado.append('Diabetes')\n",
        "  return resultado\n",
        "\n"
      ],
      "metadata": {
        "id": "SXRA63AxRpvy"
      },
      "execution_count": null,
      "outputs": []
    },
    {
      "cell_type": "code",
      "source": [
        "verifica(glicemia)\n",
        "\n",
        "resultado_glicemina = list(zip(glicemia, resultado))\n",
        "resultado_glicemina"
      ],
      "metadata": {
        "colab": {
          "base_uri": "https://localhost:8080/"
        },
        "id": "OPRpZLGCTvc-",
        "outputId": "5b29ed53-ae8a-4b77-aff8-e93ffb1a6779"
      },
      "execution_count": null,
      "outputs": [
        {
          "output_type": "execute_result",
          "data": {
            "text/plain": [
              "[(129, 'Diabetes'),\n",
              " (82, 'Normal'),\n",
              " (60, 'Hipoglicemia'),\n",
              " (97, 'Normal'),\n",
              " (101, 'Alterada'),\n",
              " (65, 'Hipoglicemia'),\n",
              " (62, 'Hipoglicemia'),\n",
              " (167, 'Diabetes'),\n",
              " (87, 'Normal'),\n",
              " (53, 'Hipoglicemia'),\n",
              " (58, 'Hipoglicemia'),\n",
              " (92, 'Normal'),\n",
              " (66, 'Hipoglicemia'),\n",
              " (120, 'Alterada'),\n",
              " (109, 'Alterada'),\n",
              " (62, 'Hipoglicemia'),\n",
              " (86, 'Normal'),\n",
              " (96, 'Normal'),\n",
              " (103, 'Alterada'),\n",
              " (88, 'Normal'),\n",
              " (155, 'Diabetes'),\n",
              " (52, 'Hipoglicemia'),\n",
              " (89, 'Normal'),\n",
              " (73, 'Normal')]"
            ]
          },
          "metadata": {},
          "execution_count": 69
        }
      ]
    },
    {
      "cell_type": "markdown",
      "source": [
        "Resposta"
      ],
      "metadata": {
        "id": "RzuttzM9Nyqo"
      }
    },
    {
      "cell_type": "code",
      "source": [
        "rotulos = [('Hipoglicemia', glicose) if glicose <= 70 else ('Normal', glicose) if glicose < 100 else ('Alterada', glicose) if glicose < 125 else ('Diabetes', glicose) for glicose in glicemia]\n",
        "print(rotulos)"
      ],
      "metadata": {
        "id": "stuqg5DDOJkE"
      },
      "execution_count": null,
      "outputs": []
    },
    {
      "cell_type": "markdown",
      "source": [
        "####Problema 8\n",
        "Um e-commerce possui as informações de id de venda, quantidade vendida e preço do produto divididos nas seguintes listas:"
      ],
      "metadata": {
        "id": "pZyPcBPeHewc"
      }
    },
    {
      "cell_type": "code",
      "source": [
        "id = [0, 1, 2, 3, 4, 5, 6, 7, 8, 9]\n",
        "quantidade = [15, 12, 1, 15, 2, 11, 2, 12, 2, 4]\n",
        "preco = [93.0, 102.0, 18.0, 41.0, 122.0, 14.0, 71.0, 48.0, 14.0, 144.0]"
      ],
      "metadata": {
        "id": "CmxEKzE-Vw04"
      },
      "execution_count": null,
      "outputs": []
    },
    {
      "cell_type": "markdown",
      "source": [
        " e-commerce precisa estruturar esses dados em uma tabela contendo o valor total da venda, que é obtida multiplicando a quantidade pelo preço unitário. Além disso, a tabela precisa conter um cabeçalho indicando as colunas: 'id', 'quantidade', 'preco' e 'total'.\n",
        "\n",
        "Crie uma lista de tuplas em que cada tupla tenha um id, quantidade, preço e valor total, na qual a primeira tupla é o cabeçalho da tabela."
      ],
      "metadata": {
        "id": "VD92v5yRVyBC"
      }
    },
    {
      "cell_type": "code",
      "source": [
        "total = (quantidade[i]*preco[i] for i in range(len(quantidade)))\n",
        "\n",
        "\n",
        "tabela = list(zip(id, quantidade, preco, total))\n",
        "tabela\n"
      ],
      "metadata": {
        "colab": {
          "base_uri": "https://localhost:8080/"
        },
        "id": "FuJd8aCuV3Zs",
        "outputId": "f62ed382-7ce5-4093-dc4e-7a459efb105a"
      },
      "execution_count": null,
      "outputs": [
        {
          "output_type": "execute_result",
          "data": {
            "text/plain": [
              "[(0, 15, 93.0, 1395.0),\n",
              " (1, 12, 102.0, 1224.0),\n",
              " (2, 1, 18.0, 18.0),\n",
              " (3, 15, 41.0, 615.0),\n",
              " (4, 2, 122.0, 244.0),\n",
              " (5, 11, 14.0, 154.0),\n",
              " (6, 2, 71.0, 142.0),\n",
              " (7, 12, 48.0, 576.0),\n",
              " (8, 2, 14.0, 28.0),\n",
              " (9, 4, 144.0, 576.0)]"
            ]
          },
          "metadata": {},
          "execution_count": 73
        }
      ]
    },
    {
      "cell_type": "markdown",
      "source": [
        "Resposta"
      ],
      "metadata": {
        "id": "gNHH9S6ZNz2O"
      }
    },
    {
      "cell_type": "code",
      "source": [
        "tabela = [('id', 'quantidade', 'preco', 'total')]\n",
        "tabela += [(id[i], quantidade[i], preco[i], quantidade[i]*preco[i]) for i in range(len(id))]"
      ],
      "metadata": {
        "id": "VxlR7seoN-O5"
      },
      "execution_count": null,
      "outputs": []
    },
    {
      "cell_type": "markdown",
      "source": [
        "####Problema 9\n",
        "Uma empresa possui filiais espalhadas nos Estados da região Sudeste do Brasil. Em uma das tabelas de cadastro das filiais há uma coluna contendo a informação de qual é o Estado a que pertence:"
      ],
      "metadata": {
        "id": "ucjckKWNHfZs"
      }
    },
    {
      "cell_type": "code",
      "source": [
        "estados = ['SP', 'ES', 'MG', 'MG', 'SP', 'MG', 'ES', 'ES', 'ES', 'SP', 'SP', 'MG', 'ES', 'SP', 'RJ', 'MG', 'RJ', 'SP', 'MG', 'SP', 'ES', 'SP', 'MG']"
      ],
      "metadata": {
        "id": "zeC3sPuTWzCh"
      },
      "execution_count": null,
      "outputs": []
    },
    {
      "cell_type": "markdown",
      "source": [
        "A empresa sempre está abrindo novas filiais, de modo que a tabela está constantemente recebendo novos registros e o gestor gostaria de possuir a informação atualizada da quantidade de filiais em cada Estado.\n",
        "\n",
        "A partir da coluna com a informação dos Estados, crie um dicionário usando dict comprehension com a chave sendo o nome de um Estado e o valor sendo a contagem de vezes em que o Estado aparece na lista."
      ],
      "metadata": {
        "id": "YmEqnWdTW1rk"
      }
    },
    {
      "cell_type": "code",
      "source": [
        "unicos = []\n",
        "contador = 0\n",
        "\n",
        "for i in range(len(estados)):\n",
        "  for k in range(len(unicos)):\n",
        "    if estados[i] == unicos[k]:\n",
        "      contador += 1\n",
        "  if contador == 0:\n",
        "    unicos.append(estados[i])\n",
        "  contador = 0\n",
        "\n",
        "unicos\n",
        "\n"
      ],
      "metadata": {
        "colab": {
          "base_uri": "https://localhost:8080/"
        },
        "id": "KJjCxsbVW7RO",
        "outputId": "8ee17ef6-8528-4a22-bdeb-dffab0d5dd90"
      },
      "execution_count": null,
      "outputs": [
        {
          "output_type": "execute_result",
          "data": {
            "text/plain": [
              "['SP', 'ES', 'MG', 'RJ']"
            ]
          },
          "metadata": {},
          "execution_count": 91
        }
      ]
    },
    {
      "cell_type": "code",
      "source": [
        "contador = 0\n",
        "quantidade = []\n",
        "for i in range(len(unicos)):\n",
        "  for k in range(len(estados)):\n",
        "    if unicos[i] == estados[k]:\n",
        "      contador += 1\n",
        "\n",
        "  quantidade.append(contador)\n",
        "  contador = 0\n",
        "\n",
        "quantidade\n",
        "\n",
        "\n"
      ],
      "metadata": {
        "colab": {
          "base_uri": "https://localhost:8080/"
        },
        "id": "E0TfZ7tCbE-K",
        "outputId": "4fe25623-8d3d-4b46-cfe1-6ead01c16317"
      },
      "execution_count": null,
      "outputs": [
        {
          "output_type": "execute_result",
          "data": {
            "text/plain": [
              "[8, 6, 7, 2]"
            ]
          },
          "metadata": {},
          "execution_count": 93
        }
      ]
    },
    {
      "cell_type": "code",
      "source": [
        "info = list(zip(unicos, quantidade))\n",
        "info"
      ],
      "metadata": {
        "colab": {
          "base_uri": "https://localhost:8080/"
        },
        "id": "kqOQKnpdbz9W",
        "outputId": "0d036e88-8681-4021-9a94-85d853dbff60"
      },
      "execution_count": null,
      "outputs": [
        {
          "output_type": "execute_result",
          "data": {
            "text/plain": [
              "[('SP', 8), ('ES', 6), ('MG', 7), ('RJ', 2)]"
            ]
          },
          "metadata": {},
          "execution_count": 94
        }
      ]
    },
    {
      "cell_type": "markdown",
      "source": [
        "Resposta"
      ],
      "metadata": {
        "id": "esV2BZnqN1Zt"
      }
    },
    {
      "cell_type": "code",
      "source": [
        "# Armazenando os estados sem repetição de valor\n",
        "estados_unicos = list(set(estados))\n",
        "\n",
        "# Criando uma lista de listas com valores repetidos de cada estado\n",
        "lista_de_listas = []\n",
        "for estado in estados_unicos:\n",
        "    lista = [uf for uf in estados if uf == estado]\n",
        "    lista_de_listas.append(lista)\n",
        "print(lista_de_listas)\n",
        "\n",
        "# Criando um dicionário em que a chave é o nome de cada estado único e o valor é a contagem de elementos\n",
        "contagem_valores = {estados_unicos[i]: len(lista_de_listas[i]) for i in range(len(estados_unicos))}\n",
        "print(contagem_valores)"
      ],
      "metadata": {
        "id": "SR_wTVbeN7TQ"
      },
      "execution_count": null,
      "outputs": []
    },
    {
      "cell_type": "markdown",
      "source": [
        "####Problema 10\n",
        "Nessa mesma tabela de cadastro de filiais, há uma coluna com as informações da quantidade de funcionários e o gestor gostaria de ter um agrupamento da soma de funcionários para cada estado. As informações contidas na tabela são:"
      ],
      "metadata": {
        "id": "ToVJUL9THlwA"
      }
    },
    {
      "cell_type": "code",
      "source": [
        "funcionarios = [('SP', 16), ('ES', 8), ('MG', 9), ('MG', 6), ('SP', 10), ('MG', 4), ('ES',9), ('ES', 7), ('ES', 12), ('SP', 7), ('SP', 11), ('MG',8), ('ES',8), ('SP',9), ('RJ', 13), ('MG', 5), ('RJ', 9), ('SP', 12), ('MG', 10), ('SP', 7), ('ES', 14), ('SP', 10), ('MG', 12)]"
      ],
      "metadata": {
        "id": "BpNmVU5kcJSd"
      },
      "execution_count": null,
      "outputs": []
    },
    {
      "cell_type": "markdown",
      "source": [
        "A partir da lista de tuplas, crie um dicionário em que as chaves são os nomes dos Estados únicos e os valores são as listas com o número de funcionários referentes ao Estado. Crie também um dicionário em que as chaves são os nomes dos Estados e os valores são a soma de funcionários por Estado."
      ],
      "metadata": {
        "id": "IMwO3v2rcJFY"
      }
    },
    {
      "cell_type": "code",
      "source": [
        "total_funcionario = []\n",
        "contador = 0\n",
        "\n",
        "for k in range(len(unicos)):\n",
        "  for i in range(len(funcionarios)):\n",
        "    if unicos[k] == funcionarios[i][0]:\n",
        "      contador += funcionarios[i][1]\n",
        "\n",
        "  total_funcionario.append(contador)\n",
        "  contador = 0\n",
        "\n",
        "total_funcionario"
      ],
      "metadata": {
        "colab": {
          "base_uri": "https://localhost:8080/"
        },
        "id": "ICzouisRcWv6",
        "outputId": "a222dd11-61f7-47e5-e5fc-a887c8fdb9c6"
      },
      "execution_count": null,
      "outputs": [
        {
          "output_type": "execute_result",
          "data": {
            "text/plain": [
              "[82, 58, 54, 22]"
            ]
          },
          "metadata": {},
          "execution_count": 100
        }
      ]
    },
    {
      "cell_type": "code",
      "source": [
        "info_funcionarios = {unicos[i]: total_funcionario[i] for i in range(len(unicos))}\n",
        "info_funcionarios"
      ],
      "metadata": {
        "colab": {
          "base_uri": "https://localhost:8080/"
        },
        "id": "FgFgWlo8dTLL",
        "outputId": "27481a50-a77d-414a-cd64-6c7a7ef51b0f"
      },
      "execution_count": null,
      "outputs": [
        {
          "output_type": "execute_result",
          "data": {
            "text/plain": [
              "{'SP': 82, 'ES': 58, 'MG': 54, 'RJ': 22}"
            ]
          },
          "metadata": {},
          "execution_count": 103
        }
      ]
    },
    {
      "cell_type": "markdown",
      "source": [
        "Resposta"
      ],
      "metadata": {
        "id": "PcD_BQ7CN2Qt"
      }
    },
    {
      "cell_type": "code",
      "source": [
        "# Armazenando os estados sem repetição de valor\n",
        "estados_unicos = list(set([tupla[0] for tupla in funcionarios]))\n",
        "\n",
        "# Criando uma lista de listas com valores de funcionários de cada estado\n",
        "lista_de_listas = []\n",
        "for estado in estados_unicos:\n",
        "    lista = [tupla[1] for tupla in funcionarios if tupla[0] == estado]\n",
        "    lista_de_listas.append(lista)\n",
        "print(lista_de_listas)\n",
        "\n",
        "# Criando um dicionário com dados agrupados de funcionário por estado\n",
        "agrupamento_por_estado = {estados_unicos[i]: lista_de_listas[i] for i in range(len(estados_unicos))}\n",
        "print(agrupamento_por_estado)\n",
        "\n",
        "# Criando um dicionário com a soma de funcionários por estado\n",
        "soma_por_estado = {estados_unicos[i]: sum(lista_de_listas[i]) for i in range(len(estados_unicos))}\n",
        "print(soma_por_estado)"
      ],
      "metadata": {
        "id": "Svka1wOpN3El"
      },
      "execution_count": null,
      "outputs": []
    },
    {
      "cell_type": "markdown",
      "source": [
        "#Trato de Exceção"
      ],
      "metadata": {
        "id": "8qHf2D68dxxq"
      }
    },
    {
      "cell_type": "markdown",
      "source": [
        "##Try ... except\n",
        "\n",
        "\n",
        "\n",
        "```\n",
        "try:\n",
        "  executa o código normalmente\n",
        "\n",
        "except <nome_da_excecao as e>:\n",
        "  Executa se acontecer alguma exceção no try\n",
        "```\n",
        "\n"
      ],
      "metadata": {
        "id": "MxB7wALYeCPy"
      }
    },
    {
      "cell_type": "markdown",
      "source": [
        "###Situação 12:\n",
        "Você criou um código que lê um dicionário com as notas dos estudantes e quis retornar a lista de notas de determinado(a) estudante. Caso o(a) estudante não esteja matriculado(a) na turma, devemos tratar a exceção para aparecer a mensagem \"Estudante não matriculado(a) na turma\". Vamos trabalhar nesse exemplo com a exceção `Key Error` que interromperá o processo desse pedaço do código. Vamos testar esse primeiro tratamento?"
      ],
      "metadata": {
        "id": "OlGLWiITelLr"
      }
    },
    {
      "cell_type": "code",
      "source": [
        "notas = {'João': [8.0, 9.0, 10.0], 'Maria': [9.0, 7.0, 6.0], 'José': [3.4, 7.0, 8.0],'Cláudia': [5.5, 6.6, 8.0], 'Ana': [6.0, 10.0, 9.5], 'Joaquim': [5.5, 7.5, 9.0], 'Júlia': [6.0, 8.0, 7.0], 'Pedro': [3.0, 4.0, 6.0]}"
      ],
      "metadata": {
        "id": "-UcKAch0d9JT"
      },
      "execution_count": 1,
      "outputs": []
    },
    {
      "cell_type": "code",
      "source": [
        "#Existem nomes que não podem ser escritos\n",
        "nome = input(\"Digite o nome do(a) estudante: \")\n",
        "resultado = notas[nome]\n",
        "resultado"
      ],
      "metadata": {
        "colab": {
          "base_uri": "https://localhost:8080/",
          "height": 0
        },
        "id": "jsQWXSYTdxLs",
        "outputId": "69314071-426e-4879-efa0-3bed936c6a60"
      },
      "execution_count": 4,
      "outputs": [
        {
          "name": "stdout",
          "output_type": "stream",
          "text": [
            "Digite o nome do(a) estudante: Afonso\n"
          ]
        },
        {
          "output_type": "error",
          "ename": "KeyError",
          "evalue": "ignored",
          "traceback": [
            "\u001b[0;31m---------------------------------------------------------------------------\u001b[0m",
            "\u001b[0;31mKeyError\u001b[0m                                  Traceback (most recent call last)",
            "\u001b[0;32m<ipython-input-4-088949fbf590>\u001b[0m in \u001b[0;36m<cell line: 2>\u001b[0;34m()\u001b[0m\n\u001b[1;32m      1\u001b[0m \u001b[0mnome\u001b[0m \u001b[0;34m=\u001b[0m \u001b[0minput\u001b[0m\u001b[0;34m(\u001b[0m\u001b[0;34m\"Digite o nome do(a) estudante: \"\u001b[0m\u001b[0;34m)\u001b[0m\u001b[0;34m\u001b[0m\u001b[0;34m\u001b[0m\u001b[0m\n\u001b[0;32m----> 2\u001b[0;31m \u001b[0mresultado\u001b[0m \u001b[0;34m=\u001b[0m \u001b[0mnotas\u001b[0m\u001b[0;34m[\u001b[0m\u001b[0mnome\u001b[0m\u001b[0;34m]\u001b[0m\u001b[0;34m\u001b[0m\u001b[0;34m\u001b[0m\u001b[0m\n\u001b[0m\u001b[1;32m      3\u001b[0m \u001b[0mresultado\u001b[0m\u001b[0;34m\u001b[0m\u001b[0;34m\u001b[0m\u001b[0m\n",
            "\u001b[0;31mKeyError\u001b[0m: 'Afonso'"
          ]
        }
      ]
    },
    {
      "cell_type": "code",
      "source": [
        "#Caso o nome seja digitado errado aparece a mensagem de erro, mas se o nome certo for digitado nada acontece\n",
        "try:\n",
        "    nome = input(\"Digite o nome do(a) estudante: \")\n",
        "    resultado = notas[nome]\n",
        "except KeyError:\n",
        "    print(\"Estudante não matriculado(a) na turma\")"
      ],
      "metadata": {
        "colab": {
          "base_uri": "https://localhost:8080/"
        },
        "id": "oFmb2ogPe7g5",
        "outputId": "7f2b0ebc-6e19-4a4f-fe28-48b2199d2ba3"
      },
      "execution_count": 10,
      "outputs": [
        {
          "name": "stdout",
          "output_type": "stream",
          "text": [
            "Digite o nome do(a) estudante: Maria\n"
          ]
        }
      ]
    },
    {
      "cell_type": "markdown",
      "source": [
        "# Try .... except ... else"
      ],
      "metadata": {
        "id": "1zmVQTzngMeO"
      }
    },
    {
      "cell_type": "markdown",
      "source": [
        "##Situação 13:\n",
        "Você criou um código que lê um dicionário com as notas dos estudantes e quis retornar a lista de notas de determinado(a) estudante. Caso o(a) estudante não esteja matriculado(a) na classe devemos tratar a exceção para aparecer a mensagem \"Estudante não matriculado(a) na turma\", e se a exceção não for lançada devemos exibir a lista com as notas do(a) estudante. Vamos trabalhar nesse exemplo com a exceção `Key Error` que interromperá o processo desse pedaço do código. Vamos testar esse tratamento?"
      ],
      "metadata": {
        "id": "NSbUPmtdfOq-"
      }
    },
    {
      "cell_type": "code",
      "source": [
        "notas = {'João': [8.8, 9.0, 10.0], 'Maria': [9.0, 7.0, 6.0], 'Jose': [3.4, 7.0, 8.0], 'Cláudia': [5.5, 6.6, 8.0], 'Ana': [6.8, 10.0, 9.5], 'Joaquim': [5.5, 7.5, 9.8], 'Júlia': [6.0, 8.0, 7.0], 'Pedro': [3.0, 4.0, 6.8]}"
      ],
      "metadata": {
        "id": "djYvdFeUfVcr"
      },
      "execution_count": 9,
      "outputs": []
    },
    {
      "cell_type": "code",
      "source": [
        "try:\n",
        "    nome = input(\"Digite o nome do(a) estudante: \")\n",
        "    resultado = notas[nome]\n",
        "except KeyError:\n",
        "    print(\"Estudante não matriculado(a) na turma\")\n",
        "else:\n",
        "    print(resultado)"
      ],
      "metadata": {
        "colab": {
          "base_uri": "https://localhost:8080/"
        },
        "id": "U2xr3fwEftpi",
        "outputId": "435a375f-75cd-42d0-d0b9-ea7e7a996960"
      },
      "execution_count": 11,
      "outputs": [
        {
          "output_type": "stream",
          "name": "stdout",
          "text": [
            "Digite o nome do(a) estudante: Maria\n",
            "[9.0, 7.0, 6.0]\n"
          ]
        }
      ]
    },
    {
      "cell_type": "markdown",
      "source": [
        "##Try ... except ... else ... finally\n",
        "\n",
        "O try corresponde ao fluxo normal, except ao fluxo de exceção, e else para o caso em que a exceção não for lançada. O finally, por sua vez, funciona para os casos em que qualquer uma das duas situações ocorra. Ou seja, tendo ou não exceção, a cláusula finally será executada."
      ],
      "metadata": {
        "id": "QcUvOu_JgXOI"
      }
    },
    {
      "cell_type": "markdown",
      "source": [
        "###Situação 14:\n",
        "Você criou um código que lê um dicionário com as notas dos estudantes e quis retornar a lista de notas de um estudante. Caso o(a) estudante não esteja matriculado(a) na classe devemos tratar a exceção para aparecer a mensagem \"Estudante não matriculado(a) na turma\" e se a exceção não for lançada devemos exibir a lista com as notas do(a) estudante. Um texto avisando que \"A consulta foi encerrada!\" deve ser exibido com ou sem a exceção ser lançada. Vamos trabalhar nesse exemplo com a exceção Key Error que interromperá o processo desse pedaço do codigo. Vamos testar esse tratamento?"
      ],
      "metadata": {
        "id": "rcRVVL1NgoqL"
      }
    },
    {
      "cell_type": "code",
      "source": [
        "notas = {'João': [8.8, 9.0, 10.0], 'Maria': [9.0, 7.0, 6.0], 'Jose': [3.4, 7.0, 8.0], 'Cláudia': [5.5, 6.6, 8.0], 'Ana': [6.8, 10.0, 9.5], 'Joaquim': [5.5, 7.5, 9.8], 'Júlia': [6.0, 8.0, 7.0], 'Pedro': [3.0, 4.0, 6.8]}"
      ],
      "metadata": {
        "id": "M_i-OqNfgr9-"
      },
      "execution_count": 12,
      "outputs": []
    },
    {
      "cell_type": "code",
      "source": [
        "try:\n",
        "    nome = input(\"Digite o nome do(a) estudante: \")\n",
        "    resultado = notas[nome]\n",
        "except KeyError:\n",
        "    print(\"Estudante não matriculado(a) na turma\")\n",
        "else:\n",
        "    print(resultado)\n",
        "finally:\n",
        "    print(\"A consulta foi encerrada!\")"
      ],
      "metadata": {
        "colab": {
          "base_uri": "https://localhost:8080/"
        },
        "id": "j524-szZgvVp",
        "outputId": "4e201258-e1a3-4e59-cf9f-b8894e90e4b6"
      },
      "execution_count": 14,
      "outputs": [
        {
          "output_type": "stream",
          "name": "stdout",
          "text": [
            "Digite o nome do(a) estudante: Maria\n",
            "[9.0, 7.0, 6.0]\n",
            "A consulta foi encerrada!\n"
          ]
        }
      ]
    },
    {
      "cell_type": "markdown",
      "source": [
        "##Raise\n",
        "Outra forma de trabalhar com exceções, é criar uma própria pensando em um comportamento que não queremos que ocorra em nosso programa. Para isso, usamos a palavra-chave raise que permitirá que lancemos uma exceção.\n",
        "\n",
        "`raise ValueError(\"A lista de notas deve possuir dez elementos\")`"
      ],
      "metadata": {
        "id": "5hngKgtIiC4F"
      }
    },
    {
      "cell_type": "markdown",
      "source": [
        "###Situação 15:\n",
        "Você criou uma função para calcular a média de um estudante em uma dada matéria passando em uma lista as notas deste estudante. Você pretende tratar 2 situações:\n",
        "\n",
        "*   Se a lista possuir um valor não numérico o cálculo de média não serà executado e uma mensagem de \"Não foi possível calcular a média do(a) estudante. Só são aceitos valores numéricos!\" será exibida.\n",
        "\n",
        "*   Caso a lista tenha mais de 4 notas, será lançada uma exceção do tipo ValueError informando que \"A lista não pode possuir mais de 4 notas.\"\n",
        "\n",
        "Um texto avisando que \"A consulta foi encerrada!\" deve ser exibido com ou sem a exceção ser lançada. Vamos resolver esse desafio?"
      ],
      "metadata": {
        "id": "G2ZiQtyciMn-"
      }
    },
    {
      "cell_type": "code",
      "source": [
        "def media(lista: list=[0]) -> float:\n",
        "\n",
        "# Função para calcular a média de notas passadas por uma lista\n",
        "\n",
        "# lista: list, default[0]\n",
        "#    Lista com as notas para calcular a média\n",
        "#    return calculo: float\n",
        "#    Média calculada\n",
        "\n",
        "\n",
        "  calculo = sum(lista) / len(lista)\n",
        "\n",
        "  if len(lista) > 4:  #Acrescentei o tipo de erro\n",
        "    raise ValueError(\"A lista não pode possuir mais de 4 notas.\")\n",
        "\n",
        "  return calculo"
      ],
      "metadata": {
        "id": "xoWaQxD0jE7B"
      },
      "execution_count": 29,
      "outputs": []
    },
    {
      "cell_type": "code",
      "source": [
        "notas = [6, 7, 8, 8]\n",
        "resultado = media(notas)\n",
        "resultado"
      ],
      "metadata": {
        "colab": {
          "base_uri": "https://localhost:8080/"
        },
        "id": "nSmJevuEjK6z",
        "outputId": "06237c48-ccbb-4f33-d452-3e5003c0aac8"
      },
      "execution_count": 30,
      "outputs": [
        {
          "output_type": "execute_result",
          "data": {
            "text/plain": [
              "7.25"
            ]
          },
          "metadata": {},
          "execution_count": 30
        }
      ]
    },
    {
      "cell_type": "code",
      "source": [
        "###Observe o ValueError no final.\n",
        "notas = [6, 7, 8, 8, 9]\n",
        "resultado = media(notas)\n",
        "resultado"
      ],
      "metadata": {
        "colab": {
          "base_uri": "https://localhost:8080/",
          "height": 331
        },
        "id": "Pp9rw3YIjzMS",
        "outputId": "8578a650-7b93-4cf6-f9c8-ac019af4ea0f"
      },
      "execution_count": 31,
      "outputs": [
        {
          "output_type": "error",
          "ename": "ValueError",
          "evalue": "ignored",
          "traceback": [
            "\u001b[0;31m---------------------------------------------------------------------------\u001b[0m",
            "\u001b[0;31mValueError\u001b[0m                                Traceback (most recent call last)",
            "\u001b[0;32m<ipython-input-31-a82ae7c4dee9>\u001b[0m in \u001b[0;36m<cell line: 2>\u001b[0;34m()\u001b[0m\n\u001b[1;32m      1\u001b[0m \u001b[0mnotas\u001b[0m \u001b[0;34m=\u001b[0m \u001b[0;34m[\u001b[0m\u001b[0;36m6\u001b[0m\u001b[0;34m,\u001b[0m \u001b[0;36m7\u001b[0m\u001b[0;34m,\u001b[0m \u001b[0;36m8\u001b[0m\u001b[0;34m,\u001b[0m \u001b[0;36m8\u001b[0m\u001b[0;34m,\u001b[0m \u001b[0;36m9\u001b[0m\u001b[0;34m]\u001b[0m\u001b[0;34m\u001b[0m\u001b[0;34m\u001b[0m\u001b[0m\n\u001b[0;32m----> 2\u001b[0;31m \u001b[0mresultado\u001b[0m \u001b[0;34m=\u001b[0m \u001b[0mmedia\u001b[0m\u001b[0;34m(\u001b[0m\u001b[0mnotas\u001b[0m\u001b[0;34m)\u001b[0m\u001b[0;34m\u001b[0m\u001b[0;34m\u001b[0m\u001b[0m\n\u001b[0m\u001b[1;32m      3\u001b[0m \u001b[0mresultado\u001b[0m\u001b[0;34m\u001b[0m\u001b[0;34m\u001b[0m\u001b[0m\n",
            "\u001b[0;32m<ipython-input-29-7e9634c28f98>\u001b[0m in \u001b[0;36mmedia\u001b[0;34m(lista)\u001b[0m\n\u001b[1;32m     12\u001b[0m \u001b[0;34m\u001b[0m\u001b[0m\n\u001b[1;32m     13\u001b[0m   \u001b[0;32mif\u001b[0m \u001b[0mlen\u001b[0m\u001b[0;34m(\u001b[0m\u001b[0mlista\u001b[0m\u001b[0;34m)\u001b[0m \u001b[0;34m>\u001b[0m \u001b[0;36m4\u001b[0m\u001b[0;34m:\u001b[0m  \u001b[0;31m#Acrescentei o tipo de erro\u001b[0m\u001b[0;34m\u001b[0m\u001b[0;34m\u001b[0m\u001b[0m\n\u001b[0;32m---> 14\u001b[0;31m     \u001b[0;32mraise\u001b[0m \u001b[0mValueError\u001b[0m\u001b[0;34m(\u001b[0m\u001b[0;34m\"A lista não pode possuir mais de 4 notas.\"\u001b[0m\u001b[0;34m)\u001b[0m\u001b[0;34m\u001b[0m\u001b[0;34m\u001b[0m\u001b[0m\n\u001b[0m\u001b[1;32m     15\u001b[0m \u001b[0;34m\u001b[0m\u001b[0m\n\u001b[1;32m     16\u001b[0m   \u001b[0;32mreturn\u001b[0m \u001b[0mcalculo\u001b[0m\u001b[0;34m\u001b[0m\u001b[0;34m\u001b[0m\u001b[0m\n",
            "\u001b[0;31mValueError\u001b[0m: A lista não pode possuir mais de 4 notas."
          ]
        }
      ]
    },
    {
      "cell_type": "code",
      "source": [
        "try:\n",
        "  notas = [4,6,9,8]\n",
        "  resultado = media(notas)\n",
        "except TypeError:\n",
        "  print('Não foi possível calcular a nota do estudante. Só são aceitos valores númericos!')\n",
        "except ValueError as e:\n",
        "  print(e)\n",
        "else:\n",
        "  print(resultado)\n",
        "finally:\n",
        "  print('A consulta foi encerrada!')"
      ],
      "metadata": {
        "colab": {
          "base_uri": "https://localhost:8080/"
        },
        "id": "G648rYD0krDe",
        "outputId": "9519dc6c-8748-44d3-e1f7-bf5cdc9ef200"
      },
      "execution_count": 32,
      "outputs": [
        {
          "output_type": "stream",
          "name": "stdout",
          "text": [
            "6.75\n",
            "A consulta foi encerrada!\n"
          ]
        }
      ]
    },
    {
      "cell_type": "code",
      "source": [
        "try:\n",
        "  notas = [4,6,9,\"8\"]\n",
        "  resultado = media(notas)\n",
        "except TypeError:\n",
        "  print('Não foi possível calcular a nota do estudante. Só são aceitos valores númericos!')\n",
        "except ValueError as e:\n",
        "  print(e)\n",
        "else:\n",
        "  print(resultado)\n",
        "finally:\n",
        "  print('A consulta foi encerrada!')"
      ],
      "metadata": {
        "colab": {
          "base_uri": "https://localhost:8080/"
        },
        "id": "XyCINK2clNW1",
        "outputId": "20870432-65f6-48e8-84e7-d5e627c835c9"
      },
      "execution_count": 33,
      "outputs": [
        {
          "output_type": "stream",
          "name": "stdout",
          "text": [
            "Não foi possível calcular a nota do estudante. Só são aceitos valores númericos!\n",
            "A consulta foi encerrada!\n"
          ]
        }
      ]
    },
    {
      "cell_type": "code",
      "source": [
        "try:\n",
        "  notas = [4,6,9,8, 5]\n",
        "  resultado = media(notas)\n",
        "except TypeError:\n",
        "  print('Não foi possível calcular a nota do estudante. Só são aceitos valores númericos!')\n",
        "except ValueError as e:\n",
        "  print(e)\n",
        "else:\n",
        "  print(resultado)\n",
        "finally:\n",
        "  print('A consulta foi encerrada!')"
      ],
      "metadata": {
        "colab": {
          "base_uri": "https://localhost:8080/"
        },
        "id": "pP0Q1C6JlO1i",
        "outputId": "f9011c09-dcda-42dd-832a-3f066a145a6f"
      },
      "execution_count": 34,
      "outputs": [
        {
          "output_type": "stream",
          "name": "stdout",
          "text": [
            "A lista não pode possuir mais de 4 notas.\n",
            "A consulta foi encerrada!\n"
          ]
        }
      ]
    },
    {
      "cell_type": "markdown",
      "source": [
        "###Desafio 4"
      ],
      "metadata": {
        "id": "4JgHVxSmmC4H"
      }
    },
    {
      "cell_type": "markdown",
      "source": [
        "####Problema 1\n",
        "\n",
        "Faça um programa que solicite à pessoa usuária digitar dois números float e calcular a divisão entre esses números. O código deve conter um tratamento de erro, indicando o tipo de erro que foi gerado caso a divisão não seja possível de realizar.\n",
        "\n",
        "Teste o programa com o segundo valor numérico do input igual a 0 e também teste utilizando caracteres textuais no input para checar os tipos de erro que ocorrem."
      ],
      "metadata": {
        "id": "RQWySTJ6mF4R"
      }
    },
    {
      "cell_type": "code",
      "source": [
        "def divisao():\n",
        "  try:\n",
        "    numerador = float(input('Digite um número racional para ser o numerador:'))\n",
        "    denominador = float(input('Digite um número racional para ser o denominador:'))\n",
        "\n",
        "  except ValueError:\n",
        "    print(\"Não foi digitado um número!\")\n",
        "\n",
        "  else:\n",
        "    try:\n",
        "      resultado = numerador / denominador\n",
        "\n",
        "    except ZeroDivisionError:\n",
        "     print('O denominador não pode ser 0!')\n",
        "\n",
        "    else:\n",
        "     print(round(resultado, 2))\n",
        "\n",
        "  finally:\n",
        "    print('O programa encerrou!')"
      ],
      "metadata": {
        "id": "W5xyHz_hmWQj"
      },
      "execution_count": 65,
      "outputs": []
    },
    {
      "cell_type": "code",
      "source": [
        "divisao()"
      ],
      "metadata": {
        "colab": {
          "base_uri": "https://localhost:8080/"
        },
        "id": "ytLLjkEVwPrb",
        "outputId": "bb6b114e-459a-4b61-cde2-e7d92af59ba8"
      },
      "execution_count": 67,
      "outputs": [
        {
          "output_type": "stream",
          "name": "stdout",
          "text": [
            "Digite um número racional para ser o numerador:1\n",
            "Digite um número racional para ser o denominador:0\n",
            "O denominador não pode ser 0!\n",
            "O programa encerrou!\n"
          ]
        }
      ]
    },
    {
      "cell_type": "markdown",
      "source": [
        "####Problema 2\n",
        "Faça um programa que solicite à pessoa usuária digitar um texto que será uma chave a ser pesquisada no seguinte dicionário: `idades = {'Júlia': 16, 'Carol': 23, 'Alberto': 19, 'Roberta': 17}`, armazenando o resultado do valor em uma variável. O código deve conter um tratamento de erro `KeyError`, imprimindo a informação `'Nome não encontrado'` caso ocorra o erro e imprimir o valor caso não ocorra nenhum.\n",
        "\n",
        "Teste o programa com um nome presente em uma das chaves do dicionário e com um que não esteja no dicionário para verificar a mensagem de erro."
      ],
      "metadata": {
        "id": "5aUjCrMVmKwO"
      }
    },
    {
      "cell_type": "code",
      "source": [
        "idades = {'Júlia': 16, 'Carol': 23, 'Alberto': 19, 'Roberta': 17}"
      ],
      "metadata": {
        "id": "cFOZ05fOyaBr"
      },
      "execution_count": 68,
      "outputs": []
    },
    {
      "cell_type": "code",
      "source": [
        "idades['Júlia']"
      ],
      "metadata": {
        "colab": {
          "base_uri": "https://localhost:8080/"
        },
        "id": "xLVDW7h8zBXb",
        "outputId": "509d0c32-7dee-4968-8d3b-059a1a318c2a"
      },
      "execution_count": 70,
      "outputs": [
        {
          "output_type": "execute_result",
          "data": {
            "text/plain": [
              "16"
            ]
          },
          "metadata": {},
          "execution_count": 70
        }
      ]
    },
    {
      "cell_type": "code",
      "source": [
        "def buscador_idade(dicionario):\n",
        "  nome = str(input(\"Digide o noem da pessoa que você deseja saber a idade: \"))\n",
        "\n",
        "  try:\n",
        "    print(f'{nome} possui {dicionairo[nome]} anos.')\n",
        "  except NameError:\n",
        "    print(\"O nome não foi encontrado!\")\n",
        "  finally:\n",
        "    print('A consulta encerrou!')"
      ],
      "metadata": {
        "id": "ew78F5zsmyn4"
      },
      "execution_count": 75,
      "outputs": []
    },
    {
      "cell_type": "code",
      "source": [
        "buscador_idade(idades)"
      ],
      "metadata": {
        "colab": {
          "base_uri": "https://localhost:8080/"
        },
        "id": "Xmocfh_nzTla",
        "outputId": "4a6c6387-4b02-42db-bf83-8c83f3904556"
      },
      "execution_count": 76,
      "outputs": [
        {
          "output_type": "stream",
          "name": "stdout",
          "text": [
            "Digide o noem da pessoa que você deseja saber a idade: Marcos\n",
            "O nome não foi encontrado!\n",
            "A consulta encerrou!\n"
          ]
        }
      ]
    },
    {
      "cell_type": "markdown",
      "source": [
        "####Problema 3\n",
        "Crie uma função que recebe uma lista como parâmetro e converta todos os valores da lista para `float`. A função deve conter um tratamento de erro indicando o tipo de erro gerado e retornar a lista caso não tenha ocorrido nenhum erro. Por fim, deve ter a cláusula `finally` para imprimir o texto: 'Fim da execução da função'."
      ],
      "metadata": {
        "id": "wA_rszgYmK7w"
      }
    },
    {
      "cell_type": "code",
      "source": [
        "lista_boa = [8, 7,  7, 8]\n",
        "lista_ruim = [8, 7, False]\n",
        "nova_lista = []\n",
        "\n"
      ],
      "metadata": {
        "id": "K6v2oQ1fmySV"
      },
      "execution_count": 97,
      "outputs": []
    },
    {
      "cell_type": "code",
      "source": [
        "def checa_lista(lista):\n",
        "  try:\n",
        "    for i in range(len(lista)):\n",
        "      if type(lista[i]) == bool:\n",
        "        raise ValueError()\n",
        "\n",
        "    for i in range(len(lista)):\n",
        "      nova_lista.append(float(lista[i]))\n",
        "\n",
        "  except ValueError:\n",
        "    print('A lista não contém somente números')\n",
        "\n",
        "  else:\n",
        "    print(nova_lista)\n",
        "  finally:\n",
        "    print('Fim da execução da função')\n",
        ""
      ],
      "metadata": {
        "id": "YcC_vvCw1hME"
      },
      "execution_count": 104,
      "outputs": []
    },
    {
      "cell_type": "code",
      "source": [
        "checa_lista(lista_boa)"
      ],
      "metadata": {
        "colab": {
          "base_uri": "https://localhost:8080/"
        },
        "id": "tbHTGzyi1LMG",
        "outputId": "69942402-d9a9-4586-82cd-803cf893541f"
      },
      "execution_count": 93,
      "outputs": [
        {
          "output_type": "stream",
          "name": "stdout",
          "text": [
            "[8.0, 7.0, 7.0, 8.0, 8.0, 7.0, 7.0, 8.0]\n",
            "Fim da execução da função\n"
          ]
        }
      ]
    },
    {
      "cell_type": "code",
      "source": [
        "checa_lista(lista_ruim)"
      ],
      "metadata": {
        "colab": {
          "base_uri": "https://localhost:8080/"
        },
        "id": "tH5XER442N-r",
        "outputId": "93906cad-a288-4068-e3bc-4d49439f4790"
      },
      "execution_count": 105,
      "outputs": [
        {
          "output_type": "stream",
          "name": "stdout",
          "text": [
            "A lista não contém somente números\n",
            "Fim da execução da função\n"
          ]
        }
      ]
    },
    {
      "cell_type": "markdown",
      "source": [
        "####Problema 4\n",
        "Crie uma função que recebe duas listas como parâmetros e agrupe os elementos um a um das listas, formando uma lista de tuplas de 3 elementos, no qual o primeiro e segundo elemento da tupla são os valores na posição `i` das listas e o terceiro elemento é a soma dos valores na posição `i` das listas.\n",
        "\n",
        "A função deve conter um tratamento de erro indicando o tipo de erro gerado e retornar como resultado a lista de tuplas. Caso as listas enviadas como parâmetro tenham tamanhos diferentes, a função deve retornar um IndexError com a frase: 'A quantidade de elementos em cada lista é diferente.'"
      ],
      "metadata": {
        "id": "HpR79kcLmLFc"
      }
    },
    {
      "cell_type": "code",
      "source": [
        "lista1 = [4,6,7,9,10]\n",
        "lista2 = [-4,6,8,7,9]"
      ],
      "metadata": {
        "id": "NInjboG7mxaI"
      },
      "execution_count": 107,
      "outputs": []
    },
    {
      "cell_type": "code",
      "source": [
        "lista3 = [4,6,7,9,10,4]\n",
        "lista4 = [-4,6,8,7,9]"
      ],
      "metadata": {
        "id": "BuS-JOlXm0Iu"
      },
      "execution_count": 108,
      "outputs": []
    },
    {
      "cell_type": "code",
      "source": [
        "lista5 = [4,6,7,9,'A']\n",
        "lista6 = [-4,'E',8,7,9]"
      ],
      "metadata": {
        "id": "kEnsLKO-m1X9"
      },
      "execution_count": 109,
      "outputs": []
    },
    {
      "cell_type": "code",
      "source": [
        "def junta_lista(lista1, lista2):\n",
        "  somatorio = []\n",
        "  lista_final = []\n",
        "  try:\n",
        "    if len(lista1) != len(lista2):\n",
        "      raise ValueError()\n",
        "  except ValueError:\n",
        "    print(\"As listas tem quantidades distintas!\")\n",
        "\n",
        "  else:\n",
        "    try:\n",
        "      for i in range(len(lista1)):\n",
        "        somatorio.append(lista1[i] + lista2[i])\n",
        "\n",
        "    except TypeError:\n",
        "     print('Pelo menos uma das listas não possui só números')\n",
        "\n",
        "\n",
        "\n",
        "    else:\n",
        "      lista_final = list(zip(lista1, lista2, somatorio))\n",
        "      print(lista_final)\n",
        "\n",
        "  finally:\n",
        "    print('A função foi finalizada!')"
      ],
      "metadata": {
        "id": "MIvMsfm34iGi"
      },
      "execution_count": 124,
      "outputs": []
    },
    {
      "cell_type": "code",
      "source": [
        "junta_lista(lista1, lista2)"
      ],
      "metadata": {
        "colab": {
          "base_uri": "https://localhost:8080/"
        },
        "id": "pIyky3KZ5xKS",
        "outputId": "a1123e5a-3e14-4eee-c1fc-33b4a6364cc0"
      },
      "execution_count": 120,
      "outputs": [
        {
          "output_type": "stream",
          "name": "stdout",
          "text": [
            "[(4, -4, 0), (6, 6, 12), (7, 8, 15), (9, 7, 16), (10, 9, 19)]\n",
            "A função foi finalizada!\n"
          ]
        }
      ]
    },
    {
      "cell_type": "code",
      "source": [
        "junta_lista(lista3, lista4)"
      ],
      "metadata": {
        "colab": {
          "base_uri": "https://localhost:8080/"
        },
        "id": "9DyFQMwZ56gu",
        "outputId": "e16c10d7-82a7-41ec-8c03-9429506e8b6a"
      },
      "execution_count": 122,
      "outputs": [
        {
          "output_type": "stream",
          "name": "stdout",
          "text": [
            "As listas tem quantidades distintas!\n",
            "A função foi finalizada!\n"
          ]
        }
      ]
    },
    {
      "cell_type": "code",
      "source": [
        "junta_lista(lista5, lista6)"
      ],
      "metadata": {
        "colab": {
          "base_uri": "https://localhost:8080/"
        },
        "id": "5jUMrMMN7T7b",
        "outputId": "b4c7153d-3ecc-4649-e335-a5357228cd38"
      },
      "execution_count": 125,
      "outputs": [
        {
          "output_type": "stream",
          "name": "stdout",
          "text": [
            "Pelo menos uma das listas não possui só números\n",
            "A função foi finalizada!\n"
          ]
        }
      ]
    },
    {
      "cell_type": "markdown",
      "source": [
        "####Problema 5\n",
        "Você recebeu como desafio desenvolver um código que contabiliza as pontuações de estudantes de uma instituição de ensino de acordo com suas respostas num teste.\n",
        "\n",
        "Este código deve ser testado para um exemplo de 3 estudantes com uma lista de listas em que cada lista possui as respostas de 5 questões objetivas de cada estudante. Cada questão vale um ponto e as alternativas possíveis são A, B, C ou D.\n",
        "\n",
        "Caso alguma alternativa em um dos testes não esteja entre as alternativas possíveis você deve lançar um `ValueError` com a mensagem `\"A alternativa [alternativa] não é uma opção de alternativa válida\"`. O cálculo das 3 notas só será realizado mediante as entradas com as alternativas A, B, C ou D em todos os testes.\n",
        "\n",
        "Se não for lançada a exceção, será exibida uma lista com as notas em cada teste."
      ],
      "metadata": {
        "id": "8ZROWS5UmLOm"
      }
    },
    {
      "cell_type": "code",
      "source": [
        "gabarito = ['D', 'A', 'B', 'C', 'A']\n",
        "testes_sem_ex = [['D', 'A', 'B', 'C', 'A'], ['C', 'A', 'A', 'C', 'A'], ['D', 'B', 'A', 'C', 'A']]\n",
        "testes_com_ex = [['D', 'A', 'B', 'C', 'A'], ['C', 'A', 'A', 'E', 'A'], ['D', 'B', 'A', 'C', 'A']]"
      ],
      "metadata": {
        "id": "YyEwouGhnAYu"
      },
      "execution_count": 128,
      "outputs": []
    },
    {
      "cell_type": "code",
      "source": [
        "def lanca_nota(lista, gabarito):\n",
        "  notas = []\n",
        "  contador = 0\n",
        "  try:\n",
        "    for i in range(len(lista)):\n",
        "      for k in range(len(lista[i])):\n",
        "        if lista[i][k] != \"A\" and lista[i][k] != \"C\" and lista[i][k] != \"B\" and lista[i][k] != \"D\":\n",
        "          raise ValueError()\n",
        "  except ValueError:\n",
        "    print(f\"A alternativa da {k+1}° questão do {i+1}° aluno, não é uma opção de alternativa válida\")\n",
        "\n",
        "  else:\n",
        "     for i in range(len(lista)):\n",
        "      for k in range(len(lista[i])):\n",
        "        if lista[i][k] == gabarito[k]:\n",
        "          contador += 1\n",
        "      notas.append(contador)\n",
        "      contador = 0\n",
        "\n",
        "     print(notas)\n",
        ""
      ],
      "metadata": {
        "id": "fIOaY_zYFV_Z"
      },
      "execution_count": 139,
      "outputs": []
    },
    {
      "cell_type": "code",
      "source": [
        "lanca_nota(testes_sem_ex, gabarito)"
      ],
      "metadata": {
        "colab": {
          "base_uri": "https://localhost:8080/"
        },
        "id": "f-kf6lFaHnjF",
        "outputId": "362246b6-7ef9-4b91-c0cb-7b56be470edc"
      },
      "execution_count": 141,
      "outputs": [
        {
          "output_type": "stream",
          "name": "stdout",
          "text": [
            "[5, 3, 3]\n"
          ]
        }
      ]
    },
    {
      "cell_type": "code",
      "source": [
        "lanca_nota(testes_com_ex, gabarito)"
      ],
      "metadata": {
        "colab": {
          "base_uri": "https://localhost:8080/"
        },
        "id": "6wJ7OAauG_w8",
        "outputId": "c15e38d2-f1b4-4ce2-eba0-f0d0b8d51951"
      },
      "execution_count": 140,
      "outputs": [
        {
          "output_type": "stream",
          "name": "stdout",
          "text": [
            "A alternativa da 4° questão do 2° aluno, não é uma opção de alternativa válida\n"
          ]
        }
      ]
    },
    {
      "cell_type": "markdown",
      "source": [
        "Para verificar se uma entrada da lista não está entre as alternativas possíveis use a estrutura lista[i] not in ['A','B','C','D'] (Por exemplo, 1 not in [2,3,4]... Saída: `True`)."
      ],
      "metadata": {
        "id": "ko_PNawpnGJB"
      }
    },
    {
      "cell_type": "markdown",
      "source": [
        "####Problema 6\n",
        "\n",
        "Você está trabalhando com processamento de linguagem natural (NLP) e, dessa vez, sua líder requisitou que você criasse um trecho de código que recebe uma lista com as palavras separadas de uma frase gerada pelo ChatGPT.\n",
        "\n",
        "Você precisa criar uma função que avalia cada palavra desse texto e verificar se o tratamento para retirar os símbolos de pontuação (',' '.', '!' e '?') foi realizado. Caso contrário, será lançada uma exceção do tipo ValueError apontando o 1º caso em que foi detectado o uso de uma pontuação por meio da frase \"O texto apresenta pontuações na palavra \"[palavra]\".\".\n",
        "\n",
        "Essa demanda é voltada para a análise do padrão de frases geradas pela inteligência artificial.\n",
        "\n",
        "`Dica: Para verificar se uma ou mais das pontuações estão presentes em cada palavra, utilize a palavra chave or na condição if (Por exemplo, ('a' or 'b') in 'alura' ... Saída: True)`\n"
      ],
      "metadata": {
        "id": "on5AsoB6mLXs"
      }
    },
    {
      "cell_type": "code",
      "source": [
        "lista_tratada = ['Python', 'é', 'uma', 'linguagem', 'de', 'programação', 'poderosa', 'versátil',\n",
        "                'e', 'fácil', 'de', 'aprender', 'utilizada', 'em', 'diversos', 'campos', 'desde',\n",
        "                'análise', 'de', 'dados', 'até', 'inteligência', 'artificial']"
      ],
      "metadata": {
        "id": "7c_Ag6BInTfe"
      },
      "execution_count": 37,
      "outputs": []
    },
    {
      "cell_type": "code",
      "source": [
        "lista_nao_tratada = ['Python', 'é', 'uma', 'linguagem', 'de', 'programação', 'poderosa,', 'versátil',\n",
        "                'e', 'fácil,', 'de.', 'aprender', 'utilizada', 'em', 'diversos?', 'campos,', 'desde',\n",
        "                'análise', 'de', 'dados', 'até', 'inteligência', 'artificial!']"
      ],
      "metadata": {
        "id": "du8qjx8HnUmm"
      },
      "execution_count": 163,
      "outputs": []
    },
    {
      "cell_type": "code",
      "source": [
        "def checa_palavra(lista):\n",
        "  palavras = []\n",
        "  try:\n",
        "      for i in range(len(lista)):\n",
        "        for k in range(len(lista[i])):\n",
        "          if lista[i][k] == '!' or lista[i][k] == '?' or lista[i][k] == ',' or lista[i][k] == '.':\n",
        "            palavras.append(lista[i])\n",
        "\n",
        "      if len(palavras) != 0:\n",
        "        raise ValueError()\n",
        "\n",
        "\n",
        "  except ValueError:\n",
        "    for i in range(len(palavras)):\n",
        "      print(f'A palavra \"{palavras[i]}\" não foi tratada.')\n",
        "  else:\n",
        "      print(\"A lista foi tratada\")"
      ],
      "metadata": {
        "id": "ZXMAyDmAL4q_"
      },
      "execution_count": 160,
      "outputs": []
    },
    {
      "cell_type": "code",
      "source": [
        "checa_palavra(lista_tratada)"
      ],
      "metadata": {
        "colab": {
          "base_uri": "https://localhost:8080/"
        },
        "id": "mSBYh0zIM3mk",
        "outputId": "295daf42-066c-4459-911e-6ee2020d07ca"
      },
      "execution_count": 161,
      "outputs": [
        {
          "output_type": "stream",
          "name": "stdout",
          "text": [
            "A lista foi tratada\n"
          ]
        }
      ]
    },
    {
      "cell_type": "code",
      "source": [
        "checa_palavra(lista_nao_tratada)"
      ],
      "metadata": {
        "colab": {
          "base_uri": "https://localhost:8080/"
        },
        "id": "ox1v2aXUNS9f",
        "outputId": "50d88fae-d07b-43da-ae8c-26635c5f6a58"
      },
      "execution_count": 164,
      "outputs": [
        {
          "output_type": "stream",
          "name": "stdout",
          "text": [
            "A palavra \"poderosa,\" não foi tratada.\n",
            "A palavra \"fácil,\" não foi tratada.\n",
            "A palavra \"de.\" não foi tratada.\n",
            "A palavra \"diversos?\" não foi tratada.\n",
            "A palavra \"campos,\" não foi tratada.\n",
            "A palavra \"artificial!\" não foi tratada.\n"
          ]
        }
      ]
    },
    {
      "cell_type": "markdown",
      "source": [
        "####Problema 7\n",
        "Você foi contratado(a) como uma pessoa cientista de dados para auxiliar um laboratório que faz experimentos sobre o comportamento de uma cultura de fungos. O laboratório precisa avaliar constantemente a razão (divisão) entre os dados de pressão e temperatura do ambiente controlado recolhidos durante a experimentação para definir a melhor condição para os testes.\n",
        "\n",
        "Para cumprir com a demanda, você precisa criar uma função divide_colunas que recebe os dados das colunas de pressão e temperatura (que vem no formato de listas) e gerar uma nova coluna com o resultado da divisão. Os parâmetros da função são as duas listas e você deve tratar dentro dela ao menos 2 tipos de exceções:\n",
        "\n",
        "*  Verificar se as listas têm o mesmo tamanho (ValueError)\n",
        "*  Verificar se existe alguma divisão por zero (ZeroDivisionError)\n",
        "\n",
        "Para testar a função, vamos realizar a divisão entre duas listas de dados coletados no experimento, com os valores de pressão e temperatura do ambiente controlado."
      ],
      "metadata": {
        "id": "4L-Xa0SYmMZj"
      }
    },
    {
      "cell_type": "code",
      "source": [
        "#Dados sem exceção\n",
        "pressoes1 = [100, 120, 140, 160, 180]\n",
        "temperaturas1 = [20, 25, 30, 35, 40]"
      ],
      "metadata": {
        "id": "DAx49QTsndEJ"
      },
      "execution_count": 165,
      "outputs": []
    },
    {
      "cell_type": "code",
      "source": [
        "#Dados com exceção\n",
        "##Exceção de ZeroDivisionError\n",
        "pressoes2 = [60, 120, 140, 160, 180]\n",
        "temperaturas2 = [0, 25, 30, 35, 40]"
      ],
      "metadata": {
        "id": "SGC5rEoYnhZm"
      },
      "execution_count": 166,
      "outputs": []
    },
    {
      "cell_type": "code",
      "source": [
        "#Dados com exceção\n",
        "##Exceção de ValueError\n",
        "pressoes3 = [100, 120, 140, 160]\n",
        "temperaturas3 = [20, 25, 30, 35, 40]"
      ],
      "metadata": {
        "id": "LivHYIgRnmnD"
      },
      "execution_count": 167,
      "outputs": []
    },
    {
      "cell_type": "code",
      "source": [
        "def experimento(pressao, temperatura):\n",
        "  try:\n",
        "    if len(pressao) != len(temperatura):\n",
        "      raise ValueError()\n",
        "\n",
        "    for i in range(len(temperatura)):\n",
        "      if temperatura[i] == 0:\n",
        "        raise ZeroDivisionError()\n",
        "\n",
        "  except ValueError:\n",
        "    print(\"Os medições estão em quantidades distintas\")\n",
        "  except ZeroDivisionError:\n",
        "    print(\"Existe uma medição com temperatura igual a 0°!\")\n",
        "  else:\n",
        "    resultado = []\n",
        "    for i in range(len(pressao)):\n",
        "      resultado.append(round(pressao[i]/temperatura[i], 2))\n",
        "    print(resultado)\n",
        "\n",
        "  finally:\n",
        "    print(\"O experimento foi finalizado!\")\n"
      ],
      "metadata": {
        "id": "Ca1EYHiEQ9ek"
      },
      "execution_count": 172,
      "outputs": []
    },
    {
      "cell_type": "code",
      "source": [
        "experimento(pressoes1, temperaturas1)"
      ],
      "metadata": {
        "colab": {
          "base_uri": "https://localhost:8080/"
        },
        "id": "IlNopSc-STpR",
        "outputId": "94061423-b0b6-42e7-be7e-065a47beccf4"
      },
      "execution_count": 173,
      "outputs": [
        {
          "output_type": "stream",
          "name": "stdout",
          "text": [
            "[5.0, 4.8, 4.67, 4.57, 4.5]\n",
            "O experimento foi finalizado!\n"
          ]
        }
      ]
    },
    {
      "cell_type": "code",
      "source": [
        "experimento(pressoes2, temperaturas2)"
      ],
      "metadata": {
        "colab": {
          "base_uri": "https://localhost:8080/"
        },
        "id": "1nbCABh4SThU",
        "outputId": "5cad416b-ed34-4f4d-e408-c7da95c7efc9"
      },
      "execution_count": 174,
      "outputs": [
        {
          "output_type": "stream",
          "name": "stdout",
          "text": [
            "Existe uma medição com temperatura igual a 0°!\n",
            "O experimento foi finalizado!\n"
          ]
        }
      ]
    },
    {
      "cell_type": "code",
      "source": [
        "experimento(pressoes3, temperaturas3)"
      ],
      "metadata": {
        "colab": {
          "base_uri": "https://localhost:8080/"
        },
        "id": "apMi4fLVSTYd",
        "outputId": "635ac188-ebc5-4d3f-ff49-bcd30812e11d"
      },
      "execution_count": 175,
      "outputs": [
        {
          "output_type": "stream",
          "name": "stdout",
          "text": [
            "Os medições estão em quantidades distintas\n",
            "O experimento foi finalizado!\n"
          ]
        }
      ]
    }
  ]
}